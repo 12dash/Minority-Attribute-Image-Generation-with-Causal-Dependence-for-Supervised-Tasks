{
 "cells": [
  {
   "cell_type": "code",
   "execution_count": 1,
   "id": "ed49a0f6",
   "metadata": {},
   "outputs": [],
   "source": [
    "import sys\n",
    "import torch\n",
    "import torch.utils.data\n",
    "from torch import nn, optim\n",
    "from torch.nn import functional as F\n",
    "from torchvision.utils import save_image\n",
    "import argparse\n",
    "import numpy as np\n",
    "import matplotlib.pyplot as plt\n",
    "\n",
    "from bgm import *\n",
    "from sagan import *\n",
    "from causal_model import *\n",
    "import os\n",
    "import random\n",
    "import utils\n",
    "\n",
    "import pandas as pd\n",
    "from PIL import Image\n",
    "import matplotlib.pyplot as plt\n",
    "from torch.utils.data import DataLoader, Dataset\n",
    "from torchvision.transforms import ToTensor, Compose, Resize, Normalize\n",
    "\n",
    "from tqdm.notebook import tqdm\n",
    "import seaborn as sns"
   ]
  },
  {
   "cell_type": "code",
   "execution_count": 2,
   "id": "084cd0cc",
   "metadata": {},
   "outputs": [],
   "source": [
    "class ImageDataset(Dataset):\n",
    "    def __init__(self,root_folder,transform, cols = None):\n",
    "        self.transform=transform\n",
    "        self.img_folder=root_folder+'img/img_align_celeba/'\n",
    "\n",
    "        self.image_names=[i for i in os.listdir(self.img_folder) if '.jpg' in i]\n",
    "        self.attr = pd.read_csv(root_folder+'attr.csv').replace(-1,0)\n",
    "        _ = self.attr.pop('image_id')\n",
    "        if cols is not None:\n",
    "            self.attr = self.attr[cols]    \n",
    "        self.num_feat = len(self.attr.columns)\n",
    "        self.order = list(self.attr.columns)\n",
    "        \n",
    "        self.attr = self.attr.values\n",
    "   \n",
    "    def __len__(self):\n",
    "        return len(self.image_names)\n",
    " \n",
    "    def __getitem__(self, index):\n",
    "        image_path = self.img_folder + self.image_names[index]\n",
    "        image=Image.open(image_path)\n",
    "        image=self.transform(image)\n",
    "        label = torch.tensor(self.attr[index], dtype = torch.float)\n",
    "\n",
    "        return image, label\n",
    "\n",
    "def get_train_dataloader(root_folder, img_dim=64, batch_size=32, cols = None):\n",
    "\n",
    "    transform = Compose([Resize((img_dim, img_dim)),\n",
    "                        ToTensor(),\n",
    "                        Normalize((0.5, 0.5, 0.5), (0.5, 0.5, 0.5))])\n",
    "    training_data = ImageDataset(root_folder='dataset/celebA/',transform=transform, cols = cols)\n",
    "    train_dataloader = DataLoader(training_data, batch_size = batch_size, shuffle = True)\n",
    "    return train_dataloader"
   ]
  },
  {
   "cell_type": "code",
   "execution_count": 3,
   "id": "e8da6116",
   "metadata": {},
   "outputs": [
    {
     "name": "stdout",
     "output_type": "stream",
     "text": [
      "Using cuda device\n"
     ]
    }
   ],
   "source": [
    "device = \"cuda\" if torch.cuda.is_available() else \"mps\" if torch.backends.mps.is_available() else \"cpu\"\n",
    "print(f\"Using {device} device\")"
   ]
  },
  {
   "cell_type": "code",
   "execution_count": 4,
   "id": "a7ff7cd5",
   "metadata": {},
   "outputs": [],
   "source": [
    "celoss = torch.nn.BCEWithLogitsLoss()"
   ]
  },
  {
   "cell_type": "code",
   "execution_count": 5,
   "id": "a641b635",
   "metadata": {},
   "outputs": [],
   "source": [
    "cols = ['Smiling', 'Male', 'High_Cheekbones', 'Mouth_Slightly_Open', 'Narrow_Eyes', 'Chubby']"
   ]
  },
  {
   "cell_type": "code",
   "execution_count": 6,
   "id": "235f48ab",
   "metadata": {},
   "outputs": [],
   "source": [
    "root_folder = 'sample_data/'\n",
    "\n",
    "in_channels = 3\n",
    "fc_size = 2048\n",
    "latent_dim = 100\n",
    "\n",
    "img_dim = 64\n",
    "batch_size = 128\n",
    "\n",
    "g_conv_dim = 32\n",
    "enc_dist='gaussian'\n",
    "enc_arch='resnet'\n",
    "enc_fc_size=2048\n",
    "enc_noise_dim=128\n",
    "dec_dist = 'implicit'\n",
    "prior = 'linscm'\n",
    "\n",
    "d_conv_dim = 32\n",
    "dis_fc_size = 1024\n",
    "\n",
    "num_label = len(cols)"
   ]
  },
  {
   "cell_type": "code",
   "execution_count": 7,
   "id": "6e91b8d8",
   "metadata": {},
   "outputs": [],
   "source": [
    "train_dataloader = get_train_dataloader(root_folder, img_dim=img_dim, batch_size=batch_size, cols = cols)"
   ]
  },
  {
   "cell_type": "code",
   "execution_count": 8,
   "id": "aa85ed08",
   "metadata": {},
   "outputs": [],
   "source": [
    "A = torch.zeros((num_label, num_label), device = device)\n",
    "A[0, 2:6] = 1\n",
    "A[1, 4] = 1"
   ]
  },
  {
   "cell_type": "code",
   "execution_count": 9,
   "id": "51f530e7",
   "metadata": {},
   "outputs": [],
   "source": [
    "model = BGM(latent_dim, g_conv_dim, img_dim,\n",
    "                enc_dist, enc_arch, enc_fc_size, enc_noise_dim, dec_dist,\n",
    "                prior, num_label, A)"
   ]
  },
  {
   "cell_type": "code",
   "execution_count": 10,
   "id": "75f25066",
   "metadata": {},
   "outputs": [],
   "source": [
    "discriminator = BigJointDiscriminator(latent_dim, d_conv_dim, img_dim, dis_fc_size)"
   ]
  },
  {
   "cell_type": "code",
   "execution_count": 11,
   "id": "84dc3d80",
   "metadata": {},
   "outputs": [],
   "source": [
    "A_optimizer = None\n",
    "prior_optimizer = None\n",
    "\n",
    "enc_param = model.encoder.parameters()\n",
    "dec_param = list(model.decoder.parameters())\n",
    "prior_param = list(model.prior.parameters())\n",
    "\n",
    "A_optimizer = optim.Adam(prior_param[0:1], lr=5e-4)\n",
    "prior_optimizer = optim.Adam(prior_param[1:], lr=5e-4, betas=(0, 0.999))"
   ]
  },
  {
   "cell_type": "code",
   "execution_count": 12,
   "id": "d0b7df05",
   "metadata": {},
   "outputs": [],
   "source": [
    "encoder_optimizer = optim.Adam(enc_param, lr=5e-5, betas=(0, 0.999))\n",
    "decoder_optimizer = optim.Adam(dec_param, lr=5e-5, betas=(0, 0.999))\n",
    "D_optimizer = optim.Adam(discriminator.parameters(), lr=1e-4, betas=(0, 0.999))\n"
   ]
  },
  {
   "cell_type": "code",
   "execution_count": 13,
   "id": "447e075c",
   "metadata": {},
   "outputs": [],
   "source": [
    "model = nn.DataParallel(model.to(device))\n",
    "discriminator = nn.DataParallel(discriminator.to(device))"
   ]
  },
  {
   "cell_type": "code",
   "execution_count": 14,
   "id": "c057ce1c",
   "metadata": {},
   "outputs": [],
   "source": [
    "epochs = 10\n",
    "d_steps_per_iter = 1\n",
    "g_steps_per_iter = 1"
   ]
  },
  {
   "cell_type": "code",
   "execution_count": 15,
   "id": "9da2950a",
   "metadata": {},
   "outputs": [
    {
     "data": {
      "text/plain": [
       "1583"
      ]
     },
     "execution_count": 15,
     "metadata": {},
     "output_type": "execute_result"
    }
   ],
   "source": [
    "number_batches = (len(train_dataloader.dataset)//batch_size)+1\n",
    "number_batches"
   ]
  },
  {
   "cell_type": "code",
   "execution_count": null,
   "id": "7e72949c",
   "metadata": {},
   "outputs": [
    {
     "data": {
      "application/vnd.jupyter.widget-view+json": {
       "model_id": "dfdd6edc4af94dc3b92b11a42d513ad9",
       "version_major": 2,
       "version_minor": 0
      },
      "text/plain": [
       "  0%|          | 0/10 [00:00<?, ?it/s]"
      ]
     },
     "metadata": {},
     "output_type": "display_data"
    },
    {
     "data": {
      "application/vnd.jupyter.widget-view+json": {
       "model_id": "aa56fbaa78ee495e9401efe9a880be6e",
       "version_major": 2,
       "version_minor": 0
      },
      "text/plain": [
       "  0%|          | 0/1583 [00:00<?, ?it/s]"
      ]
     },
     "metadata": {},
     "output_type": "display_data"
    }
   ],
   "source": [
    "for epoch in tqdm(range(epochs)):\n",
    "    disc_loss, e_loss, g_loss = [], [], []\n",
    "    for batch_idx, (x, label) in tqdm(enumerate(train_dataloader), total = number_batches):\n",
    "        x = x.to(device)\n",
    "        sup_flag = label[:, 0] != -1\n",
    "        if sup_flag.sum() > 0:\n",
    "            label = label[sup_flag, :].float()\n",
    "        \n",
    "        label = label.to(device)\n",
    "        \n",
    "        for _ in range(d_steps_per_iter):\n",
    "            discriminator.zero_grad()\n",
    "            z = torch.randn(x.size(0), latent_dim, device=x.device)\n",
    "            z_fake, x_fake, z, _ = model(x, z)\n",
    "            encoder_score = discriminator(x, z_fake.detach())\n",
    "            decoder_score = discriminator(x_fake.detach(), z.detach())\n",
    "            del z_fake\n",
    "            del x_fake\n",
    "            \n",
    "            loss_d = F.softplus(decoder_score).mean() + F.softplus(-encoder_score).mean()\n",
    "            loss_d.backward()\n",
    "            D_optimizer.step()\n",
    "            disc_loss.append(loss_d.item())\n",
    "        \n",
    "        for _ in range(g_steps_per_iter):\n",
    "            z = torch.randn(x.size(0), latent_dim, device=x.device)\n",
    "            z_fake, x_fake, z, z_fake_mean = model(x, z)\n",
    "            model.zero_grad()\n",
    "            encoder_score = discriminator(x, z_fake)\n",
    "            loss_encoder = encoder_score.mean()\n",
    "            if sup_flag.sum() > 0:\n",
    "                label_z = z_fake_mean[sup_flag, :num_label]\n",
    "                sup_loss = celoss(label_z, label)\n",
    "            else:\n",
    "                sup_loss = torch.zeros([1], device=device)\n",
    "            loss_encoder = loss_encoder + sup_loss * 5\n",
    "            loss_encoder.backward()\n",
    "            encoder_optimizer.step()\n",
    "            prior_optimizer.step()\n",
    "            e_loss.append(loss_encoder.item())\n",
    "            \n",
    "            model.zero_grad()\n",
    "            z = torch.randn(x.size(0), latent_dim, device=x.device)\n",
    "            z_fake, x_fake, z, z_fake_mean = model(x, z)\n",
    "            decoder_score = discriminator(x_fake, z)\n",
    "            r_decoder = torch.exp(decoder_score.detach())\n",
    "            s_decoder = r_decoder.clamp(0.5, 2)\n",
    "            loss_decoder = -(s_decoder * decoder_score).mean()\n",
    "            \n",
    "            loss_decoder.backward()\n",
    "            decoder_optimizer.step()\n",
    "            model.module.prior.set_zero_grad()\n",
    "            A_optimizer.step()\n",
    "            prior_optimizer.step()\n",
    "            g_loss.append(loss_decoder.item())\n",
    "    print(f\"[{epoch+1}/{epochs}] Encoder Loss : {sum(e_loss)/number_batches:>.5f} Gen Loss : {sum(g_loss)/number_batches:>.5f} Disc Loss : {sum(disc_loss)/number_batches:>.5f}\")"
   ]
  },
  {
   "cell_type": "code",
   "execution_count": null,
   "id": "17772f39",
   "metadata": {},
   "outputs": [],
   "source": []
  }
 ],
 "metadata": {
  "kernelspec": {
   "display_name": "Python 3",
   "language": "python",
   "name": "python3"
  },
  "language_info": {
   "codemirror_mode": {
    "name": "ipython",
    "version": 3
   },
   "file_extension": ".py",
   "mimetype": "text/x-python",
   "name": "python",
   "nbconvert_exporter": "python",
   "pygments_lexer": "ipython3",
   "version": "3.7.12"
  }
 },
 "nbformat": 4,
 "nbformat_minor": 5
}
