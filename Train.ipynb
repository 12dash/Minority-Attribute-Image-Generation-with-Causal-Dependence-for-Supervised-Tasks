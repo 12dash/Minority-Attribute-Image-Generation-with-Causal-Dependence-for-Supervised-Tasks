{
 "cells": [
  {
   "cell_type": "code",
   "execution_count": 1,
   "id": "ed49a0f6",
   "metadata": {},
   "outputs": [],
   "source": [
    "import sys\n",
    "import torch\n",
    "import torch.utils.data\n",
    "from torch import nn, optim\n",
    "from torch.nn import functional as F\n",
    "from torchvision.utils import save_image\n",
    "import argparse\n",
    "import numpy as np\n",
    "import matplotlib.pyplot as plt\n",
    "\n",
    "from bgm import *\n",
    "from sagan import *\n",
    "from causal_model import *\n",
    "import os\n",
    "import random\n",
    "import utils\n",
    "\n",
    "import pandas as pd\n",
    "from PIL import Image\n",
    "import matplotlib.pyplot as plt\n",
    "from torch.utils.data import DataLoader, Dataset\n",
    "from torchvision.transforms import ToTensor, Compose, Resize, Normalize\n",
    "\n",
    "from tqdm.notebook import tqdm\n",
    "import seaborn as sns"
   ]
  },
  {
   "cell_type": "code",
   "execution_count": 2,
   "id": "084cd0cc",
   "metadata": {},
   "outputs": [],
   "source": [
    "class ImageDataset(Dataset):\n",
    "    def __init__(self,root_folder,transform, cols = None):\n",
    "        self.transform=transform\n",
    "        self.img_folder=root_folder+'img/img_align_celeba/'\n",
    "\n",
    "        self.image_names=[i for i in os.listdir(self.img_folder) if '.jpg' in i]\n",
    "        \n",
    "        self.attr = pd.read_csv(root_folder+'attr.csv').replace(-1,0).sample(frac = 0.01)\n",
    "        self.image_names = list(self.attr.pop('image_id'))\n",
    "        if cols is not None:\n",
    "            self.attr = self.attr[cols]    \n",
    "        self.num_feat = len(self.attr.columns)\n",
    "        self.order = list(self.attr.columns)\n",
    "        \n",
    "        self.attr = self.attr.values\n",
    "   \n",
    "    def __len__(self):\n",
    "        return len(self.image_names)\n",
    " \n",
    "    def __getitem__(self, index):\n",
    "        image_path = self.img_folder + self.image_names[index]\n",
    "        image=Image.open(image_path)\n",
    "        image=self.transform(image)\n",
    "        label = torch.tensor(self.attr[index], dtype = torch.float)\n",
    "\n",
    "        return image, label\n",
    "\n",
    "def get_train_dataloader(root_folder, img_dim=64, batch_size=32, cols = None):\n",
    "\n",
    "    transform = Compose([Resize((img_dim, img_dim)),\n",
    "                        ToTensor(),\n",
    "                        Normalize((0.5, 0.5, 0.5), (0.5, 0.5, 0.5))])\n",
    "    training_data = ImageDataset(root_folder='dataset/celebA/',transform=transform, cols = cols)\n",
    "    train_dataloader = DataLoader(training_data, batch_size = batch_size, num_workers = 2, \n",
    "                                  shuffle = True, prefetch_factor = 4)\n",
    "    return train_dataloader"
   ]
  },
  {
   "cell_type": "code",
   "execution_count": 3,
   "id": "e8da6116",
   "metadata": {},
   "outputs": [
    {
     "name": "stdout",
     "output_type": "stream",
     "text": [
      "Using cuda device\n"
     ]
    }
   ],
   "source": [
    "device = \"cuda\" if torch.cuda.is_available() else \"mps\" if torch.backends.mps.is_available() else \"cpu\"\n",
    "print(f\"Using {device} device\")"
   ]
  },
  {
   "cell_type": "code",
   "execution_count": 4,
   "id": "a7ff7cd5",
   "metadata": {},
   "outputs": [],
   "source": [
    "celoss = torch.nn.BCEWithLogitsLoss()"
   ]
  },
  {
   "cell_type": "code",
   "execution_count": 5,
   "id": "a641b635",
   "metadata": {},
   "outputs": [],
   "source": [
    "cols = ['Smiling', 'Male', 'High_Cheekbones', 'Mouth_Slightly_Open', 'Narrow_Eyes', 'Chubby']"
   ]
  },
  {
   "cell_type": "code",
   "execution_count": 6,
   "id": "235f48ab",
   "metadata": {},
   "outputs": [],
   "source": [
    "root_folder = 'sample_data/'\n",
    "\n",
    "in_channels = 3\n",
    "fc_size = 2048\n",
    "latent_dim = 100\n",
    "\n",
    "img_dim = 64\n",
    "batch_size = 128\n",
    "\n",
    "g_conv_dim = 32\n",
    "enc_dist='gaussian'\n",
    "enc_arch='resnet'\n",
    "enc_fc_size=2048\n",
    "enc_noise_dim=128\n",
    "dec_dist = 'implicit'\n",
    "prior = 'linscm'\n",
    "\n",
    "d_conv_dim = 32\n",
    "dis_fc_size = 1024\n",
    "\n",
    "num_label = len(cols)"
   ]
  },
  {
   "cell_type": "code",
   "execution_count": 7,
   "id": "6e91b8d8",
   "metadata": {},
   "outputs": [],
   "source": [
    "train_dataloader = get_train_dataloader(root_folder, img_dim=img_dim, \n",
    "                                        batch_size=batch_size, cols = cols, \n",
    "                                       )"
   ]
  },
  {
   "cell_type": "code",
   "execution_count": 8,
   "id": "aa85ed08",
   "metadata": {},
   "outputs": [],
   "source": [
    "A = torch.zeros((num_label, num_label), device = device)\n",
    "A[0, 2:6] = 1\n",
    "A[1, 4] = 1"
   ]
  },
  {
   "cell_type": "code",
   "execution_count": 9,
   "id": "51f530e7",
   "metadata": {},
   "outputs": [],
   "source": [
    "model = BGM(latent_dim, g_conv_dim, img_dim,\n",
    "                enc_dist, enc_arch, enc_fc_size, enc_noise_dim, dec_dist,\n",
    "                prior, num_label, A)"
   ]
  },
  {
   "cell_type": "code",
   "execution_count": 10,
   "id": "75f25066",
   "metadata": {},
   "outputs": [],
   "source": [
    "discriminator = BigJointDiscriminator(latent_dim, d_conv_dim, img_dim, dis_fc_size)"
   ]
  },
  {
   "cell_type": "code",
   "execution_count": 11,
   "id": "84dc3d80",
   "metadata": {},
   "outputs": [],
   "source": [
    "A_optimizer = None\n",
    "prior_optimizer = None\n",
    "\n",
    "enc_param = model.encoder.parameters()\n",
    "dec_param = list(model.decoder.parameters())\n",
    "prior_param = list(model.prior.parameters())\n",
    "\n",
    "A_optimizer = optim.Adam(prior_param[0:1], lr=1e-3)\n",
    "prior_optimizer = optim.Adam(prior_param[1:], lr=1e-3, betas=(0, 0.999))"
   ]
  },
  {
   "cell_type": "code",
   "execution_count": 12,
   "id": "d0b7df05",
   "metadata": {},
   "outputs": [],
   "source": [
    "encoder_optimizer = optim.Adam(enc_param, lr=5e-5, betas=(0, 0.999))\n",
    "decoder_optimizer = optim.Adam(dec_param, lr=5e-5, betas=(0, 0.999))\n",
    "D_optimizer = optim.Adam(discriminator.parameters(), lr=1e-4, betas=(0, 0.999))\n"
   ]
  },
  {
   "cell_type": "code",
   "execution_count": 13,
   "id": "447e075c",
   "metadata": {},
   "outputs": [],
   "source": [
    "model = nn.DataParallel(model.to(device))\n",
    "discriminator = nn.DataParallel(discriminator.to(device))"
   ]
  },
  {
   "cell_type": "code",
   "execution_count": 14,
   "id": "c057ce1c",
   "metadata": {},
   "outputs": [],
   "source": [
    "epochs = 10\n",
    "d_steps_per_iter = 1\n",
    "g_steps_per_iter = 1"
   ]
  },
  {
   "cell_type": "code",
   "execution_count": 15,
   "id": "9da2950a",
   "metadata": {},
   "outputs": [
    {
     "data": {
      "text/plain": [
       "16"
      ]
     },
     "execution_count": 15,
     "metadata": {},
     "output_type": "execute_result"
    }
   ],
   "source": [
    "number_batches = (len(train_dataloader.dataset)//batch_size)+1\n",
    "number_batches"
   ]
  },
  {
   "cell_type": "code",
   "execution_count": null,
   "id": "7e72949c",
   "metadata": {
    "scrolled": false
   },
   "outputs": [
    {
     "data": {
      "application/vnd.jupyter.widget-view+json": {
       "model_id": "f536ab8b9fea4a35b4b787e89c39ae15",
       "version_major": 2,
       "version_minor": 0
      },
      "text/plain": [
       "  0%|          | 0/10 [00:00<?, ?it/s]"
      ]
     },
     "metadata": {},
     "output_type": "display_data"
    },
    {
     "data": {
      "application/vnd.jupyter.widget-view+json": {
       "model_id": "46bbd47465674ae59794842b5cb77264",
       "version_major": 2,
       "version_minor": 0
      },
      "text/plain": [
       "  0%|          | 0/16 [00:00<?, ?it/s]"
      ]
     },
     "metadata": {},
     "output_type": "display_data"
    },
    {
     "name": "stdout",
     "output_type": "stream",
     "text": [
      "[1/10] Encoder Loss : 4.24643 Gen Loss : 0.18687     Disc Loss : 1.07666 Label Loss : 0.68507 \n",
      "tensor([[ 0.8600,  0.3843,  0.2070,  0.7493,  0.1355,  0.0981],\n",
      "        [ 0.4883, -0.1260,  0.9505,  0.9646, -0.0627,  0.0122],\n",
      "        [ 0.5217,  0.8827,  0.4022,  1.3968,  0.4691, -0.1891],\n",
      "        [ 1.0147,  0.0334,  0.4042,  1.2837,  0.3766,  0.2906],\n",
      "        [-0.9183,  0.8653, -1.5007,  0.2716,  0.4320, -0.3325],\n",
      "        [ 0.7080,  0.5943, -0.3317,  0.8240, -0.2940, -0.1361],\n",
      "        [-1.9430,  1.7561, -1.1635, -0.3554, -0.1091,  0.4225],\n",
      "        [-0.9249,  0.4667, -0.7342, -0.5807,  0.5890,  0.0558],\n",
      "        [ 0.7989,  0.9563, -0.4863,  0.5815,  0.2102, -0.1263],\n",
      "        [ 1.1079, -0.0544,  0.3481,  0.9085,  0.2052,  0.7795]],\n",
      "       device='cuda:0') tensor([[1., 1., 1., 1., 0., 0.],\n",
      "        [1., 0., 1., 1., 0., 0.],\n",
      "        [1., 1., 1., 1., 0., 0.],\n",
      "        [0., 1., 0., 0., 0., 0.],\n",
      "        [1., 0., 0., 0., 0., 0.],\n",
      "        [1., 1., 1., 1., 0., 0.],\n",
      "        [0., 1., 0., 0., 1., 1.],\n",
      "        [0., 1., 0., 0., 0., 0.],\n",
      "        [0., 0., 0., 1., 0., 0.],\n",
      "        [1., 1., 1., 1., 1., 1.]])\n"
     ]
    },
    {
     "data": {
      "application/vnd.jupyter.widget-view+json": {
       "model_id": "ac53ef401a1d4a6bb7af692e3097606c",
       "version_major": 2,
       "version_minor": 0
      },
      "text/plain": [
       "  0%|          | 0/16 [00:00<?, ?it/s]"
      ]
     },
     "metadata": {},
     "output_type": "display_data"
    },
    {
     "name": "stdout",
     "output_type": "stream",
     "text": [
      "[2/10] Encoder Loss : 4.14264 Gen Loss : 0.21730     Disc Loss : 1.19750 Label Loss : 0.70576 \n",
      "tensor([[-1.0161e+00,  2.7200e-01, -1.5046e-01, -7.4688e-02, -2.2919e-03,\n",
      "          5.5520e-02],\n",
      "        [ 5.1189e+00,  4.3418e-01,  4.5362e+00, -1.7756e+00,  4.8787e-01,\n",
      "         -3.4919e+00],\n",
      "        [ 7.2044e-01,  1.1513e+00,  1.4748e+00, -2.3064e-01,  5.3076e-01,\n",
      "         -8.3296e-01],\n",
      "        [ 1.8135e+00, -7.7615e-01,  1.6556e+00,  6.5426e-01,  1.0621e-02,\n",
      "         -6.4994e-01],\n",
      "        [ 8.0618e-01, -6.4680e-01,  8.3089e-01,  1.3163e+00, -6.2500e-01,\n",
      "         -1.1739e-01],\n",
      "        [ 2.8968e-01,  1.1804e+00, -1.0382e-01,  1.2346e-01,  5.0680e-02,\n",
      "         -3.1262e-01],\n",
      "        [ 1.0492e+00,  1.3940e+00,  5.2494e-01,  8.8545e-01, -2.6146e-01,\n",
      "         -2.2744e-01],\n",
      "        [ 1.7734e+00, -1.4187e+00,  1.4553e+00,  5.3321e-01, -8.2644e-03,\n",
      "         -3.1987e-01],\n",
      "        [ 7.3565e-01, -6.3030e-02,  4.8924e-01,  8.9291e-01,  7.7108e-02,\n",
      "         -2.8999e-02],\n",
      "        [ 1.4473e+00, -5.2998e-02,  8.9025e-01,  1.6683e+00, -2.8383e-01,\n",
      "          6.9854e-02]], device='cuda:0') tensor([[1., 0., 1., 0., 0., 0.],\n",
      "        [1., 0., 1., 1., 0., 0.],\n",
      "        [0., 0., 0., 0., 0., 0.],\n",
      "        [1., 0., 1., 1., 0., 0.],\n",
      "        [1., 0., 1., 1., 0., 0.],\n",
      "        [0., 1., 0., 1., 0., 0.],\n",
      "        [0., 1., 1., 1., 0., 0.],\n",
      "        [1., 0., 1., 1., 0., 0.],\n",
      "        [0., 0., 0., 1., 0., 0.],\n",
      "        [1., 0., 1., 1., 0., 0.]])\n"
     ]
    },
    {
     "data": {
      "application/vnd.jupyter.widget-view+json": {
       "model_id": "7d3b1a26709c4f319c74f45f12a798b3",
       "version_major": 2,
       "version_minor": 0
      },
      "text/plain": [
       "  0%|          | 0/16 [00:00<?, ?it/s]"
      ]
     },
     "metadata": {},
     "output_type": "display_data"
    },
    {
     "name": "stdout",
     "output_type": "stream",
     "text": [
      "[3/10] Encoder Loss : 3.82183 Gen Loss : 0.10074     Disc Loss : 1.21287 Label Loss : 0.66905 \n",
      "tensor([[ 1.2260e+00, -3.4591e-01,  6.1457e-01,  1.6742e+00,  7.4209e-02,\n",
      "         -9.0248e-02],\n",
      "        [-3.2370e+00,  2.6131e+00, -8.7674e+00,  3.9810e-01, -3.1995e+00,\n",
      "         -9.9728e-01],\n",
      "        [ 2.4139e+00, -1.5654e+00,  2.0846e+00,  2.6250e+00, -2.2547e-01,\n",
      "         -6.2592e-01],\n",
      "        [ 4.1034e-01, -2.4784e-01,  7.8447e-02,  1.0769e+00,  9.8816e-02,\n",
      "         -4.4357e-01],\n",
      "        [-3.4657e-01,  6.7364e-01, -6.8868e-01,  8.6376e-01, -2.2930e-01,\n",
      "         -3.0249e-01],\n",
      "        [ 1.9201e-01,  1.2923e-01, -4.8674e-01,  5.0805e-01, -3.9868e-02,\n",
      "         -5.4490e-01],\n",
      "        [ 9.0511e-01, -6.4210e-02,  4.9290e-03,  1.1197e+00, -4.6967e-01,\n",
      "         -1.8813e-01],\n",
      "        [ 4.0772e-01, -3.1842e-01,  1.5133e-01,  9.5001e-01, -7.4103e-02,\n",
      "         -3.9527e-01],\n",
      "        [ 8.7849e-01, -3.5071e-01, -1.2073e-01,  7.6993e-01,  4.3614e-01,\n",
      "         -4.4700e-02],\n",
      "        [-9.7516e-01,  3.3416e+00, -5.3250e+00, -8.5081e-01, -2.1151e+00,\n",
      "         -4.6101e-01]], device='cuda:0') tensor([[1., 0., 1., 1., 0., 0.],\n",
      "        [0., 0., 0., 0., 0., 0.],\n",
      "        [1., 0., 1., 1., 0., 0.],\n",
      "        [1., 0., 1., 1., 0., 0.],\n",
      "        [0., 1., 0., 1., 0., 0.],\n",
      "        [1., 1., 0., 0., 0., 0.],\n",
      "        [0., 0., 1., 0., 0., 0.],\n",
      "        [0., 0., 1., 0., 0., 0.],\n",
      "        [0., 1., 0., 0., 0., 0.],\n",
      "        [0., 1., 0., 0., 0., 1.]])\n"
     ]
    },
    {
     "data": {
      "application/vnd.jupyter.widget-view+json": {
       "model_id": "a3089234a3a34868b3788ebb2039a534",
       "version_major": 2,
       "version_minor": 0
      },
      "text/plain": [
       "  0%|          | 0/16 [00:00<?, ?it/s]"
      ]
     },
     "metadata": {},
     "output_type": "display_data"
    },
    {
     "name": "stdout",
     "output_type": "stream",
     "text": [
      "[4/10] Encoder Loss : 3.66187 Gen Loss : 0.16200     Disc Loss : 1.26980 Label Loss : 0.67667 \n",
      "tensor([[ 1.1343,  0.2473,  1.5052, -2.5445, -0.9021, -1.6407],\n",
      "        [ 1.4498, -0.3423,  2.0364,  1.8824, -0.0467, -0.4832],\n",
      "        [ 0.7266,  1.1375, -0.5711,  0.6637, -0.0302, -0.6111],\n",
      "        [ 1.4939, -0.1968,  0.7627,  1.1310, -0.0804, -0.2769],\n",
      "        [-0.4338,  1.3162, -1.4035, -0.0771, -0.0714, -0.1919],\n",
      "        [-0.5759,  0.5586, -0.2856,  0.1496,  0.4907,  0.1516],\n",
      "        [-0.8280,  2.7111, -1.0338, -0.3785, -0.3046, -0.2859],\n",
      "        [ 0.9642,  0.3174,  0.5393,  1.5493, -0.1775, -0.2519],\n",
      "        [ 0.0807,  1.7158, -0.3138,  0.5120, -0.3187, -0.1735],\n",
      "        [ 1.1582, -0.8346,  0.2641,  0.6549,  0.1486, -0.2787]],\n",
      "       device='cuda:0') tensor([[1., 1., 1., 1., 0., 0.],\n",
      "        [1., 0., 1., 1., 0., 0.],\n",
      "        [0., 1., 0., 0., 0., 0.],\n",
      "        [1., 1., 1., 0., 0., 1.],\n",
      "        [1., 0., 1., 1., 0., 0.],\n",
      "        [0., 0., 0., 0., 0., 0.],\n",
      "        [0., 1., 1., 0., 0., 1.],\n",
      "        [1., 0., 1., 1., 0., 0.],\n",
      "        [1., 1., 1., 0., 0., 1.],\n",
      "        [1., 0., 1., 1., 0., 0.]])\n"
     ]
    },
    {
     "data": {
      "application/vnd.jupyter.widget-view+json": {
       "model_id": "a88632869b4747a2acafa01081e44460",
       "version_major": 2,
       "version_minor": 0
      },
      "text/plain": [
       "  0%|          | 0/16 [00:00<?, ?it/s]"
      ]
     },
     "metadata": {},
     "output_type": "display_data"
    },
    {
     "name": "stdout",
     "output_type": "stream",
     "text": [
      "[5/10] Encoder Loss : 3.43490 Gen Loss : 0.00792     Disc Loss : 1.36360 Label Loss : 0.65586 \n",
      "tensor([[ 0.1244,  0.1841, -0.1281,  0.7603, -0.0240,  0.0345],\n",
      "        [ 0.6855,  1.1112,  0.6382,  1.4382, -0.0507, -0.0919],\n",
      "        [-0.5487,  1.8626, -0.9505, -0.2376, -0.0763,  0.0409],\n",
      "        [-0.8343,  0.1555, -1.1085,  0.1765,  0.2572,  0.0307],\n",
      "        [-0.8048,  1.3992, -1.2198, -0.4744,  0.0277, -0.2790],\n",
      "        [-0.3278,  1.5428, -0.8090, -0.4564, -0.1221,  0.0921],\n",
      "        [-1.2499,  1.1823, -1.0495, -0.1409,  0.1810, -0.1134],\n",
      "        [ 0.7563, -0.5279, -0.0859,  0.8443,  0.1623, -0.0344],\n",
      "        [-0.0298,  0.6776, -0.5226,  0.4274,  0.1678,  0.0706],\n",
      "        [-0.6779,  1.6144, -1.0899,  0.5840,  0.0700, -0.1456]],\n",
      "       device='cuda:0') tensor([[0., 1., 0., 1., 0., 0.],\n",
      "        [1., 0., 1., 1., 0., 0.],\n",
      "        [0., 1., 0., 0., 0., 0.],\n",
      "        [0., 0., 0., 0., 0., 0.],\n",
      "        [0., 1., 0., 0., 0., 0.],\n",
      "        [0., 1., 0., 0., 0., 0.],\n",
      "        [0., 1., 0., 1., 0., 0.],\n",
      "        [1., 0., 1., 1., 0., 0.],\n",
      "        [0., 1., 0., 1., 0., 0.],\n",
      "        [0., 1., 0., 0., 0., 0.]])\n"
     ]
    },
    {
     "data": {
      "application/vnd.jupyter.widget-view+json": {
       "model_id": "df5090032f5f4bdaa8e90579e2253eca",
       "version_major": 2,
       "version_minor": 0
      },
      "text/plain": [
       "  0%|          | 0/16 [00:00<?, ?it/s]"
      ]
     },
     "metadata": {},
     "output_type": "display_data"
    },
    {
     "name": "stdout",
     "output_type": "stream",
     "text": [
      "[6/10] Encoder Loss : 3.35328 Gen Loss : 0.03361     Disc Loss : 1.34268 Label Loss : 0.63681 \n",
      "tensor([[ 0.0344, -1.0509, -0.1440,  0.4456, -0.1637, -0.1624],\n",
      "        [ 0.7107,  0.4812,  0.2131,  1.1211, -0.2657,  0.0074],\n",
      "        [ 0.9250,  0.5570,  0.2263,  0.7357, -0.1033,  0.2349],\n",
      "        [ 0.2855,  1.4499, -0.1534,  0.8045, -0.0870,  0.0089],\n",
      "        [ 2.4006, -1.0347,  1.9122,  1.9323, -0.4362,  0.0255],\n",
      "        [-1.0977,  0.3528, -1.3901,  0.1838,  0.1040,  0.3569],\n",
      "        [ 2.4263, -0.7024,  0.9966,  1.8047,  0.4023, -0.4068],\n",
      "        [ 1.8128,  0.5858,  1.0608,  1.5652,  0.0380, -0.1439],\n",
      "        [-0.6907, -0.0497, -0.2076, -0.0599,  0.1037, -0.0228],\n",
      "        [ 0.4735,  1.1661, -0.0740,  0.9254,  0.0884,  0.0302]],\n",
      "       device='cuda:0') tensor([[0., 0., 1., 1., 0., 0.],\n",
      "        [0., 1., 1., 0., 0., 0.],\n",
      "        [1., 1., 1., 1., 0., 0.],\n",
      "        [0., 1., 0., 0., 0., 1.],\n",
      "        [1., 0., 1., 1., 0., 0.],\n",
      "        [0., 0., 0., 1., 1., 1.],\n",
      "        [1., 0., 1., 1., 0., 0.],\n",
      "        [1., 1., 1., 1., 0., 0.],\n",
      "        [0., 1., 0., 0., 0., 0.],\n",
      "        [0., 1., 1., 1., 0., 0.]])\n"
     ]
    },
    {
     "data": {
      "application/vnd.jupyter.widget-view+json": {
       "model_id": "475bdfa442f6484db5a277e57dad64af",
       "version_major": 2,
       "version_minor": 0
      },
      "text/plain": [
       "  0%|          | 0/16 [00:00<?, ?it/s]"
      ]
     },
     "metadata": {},
     "output_type": "display_data"
    }
   ],
   "source": [
    "for epoch in tqdm(range(epochs)):\n",
    "    model.train()\n",
    "    disc_loss, e_loss, g_loss, label_loss = [], [], [], []\n",
    "    for batch_idx, (x, label) in tqdm(enumerate(train_dataloader), total = number_batches):\n",
    "        x = x.to(device)\n",
    "        sup_flag = label[:, 0] != -1\n",
    "        if sup_flag.sum() > 0:\n",
    "            label = label[sup_flag, :].float()\n",
    "        \n",
    "        label = label.to(device)\n",
    "        \n",
    "        for _ in range(d_steps_per_iter):\n",
    "            discriminator.zero_grad()\n",
    "            z = torch.randn(x.size(0), latent_dim, device=x.device)\n",
    "            z_fake, x_fake, z, _ = model(x, z)\n",
    "            encoder_score = discriminator(x, z_fake.detach())\n",
    "            decoder_score = discriminator(x_fake.detach(), z.detach())\n",
    "            del z_fake\n",
    "            del x_fake\n",
    "            \n",
    "            loss_d = F.softplus(decoder_score).mean() + F.softplus(-encoder_score).mean()\n",
    "            loss_d.backward()\n",
    "            D_optimizer.step()\n",
    "            disc_loss.append(loss_d.item())\n",
    "        \n",
    "        for _ in range(g_steps_per_iter):\n",
    "            z = torch.randn(x.size(0), latent_dim, device=x.device)\n",
    "            z_fake, x_fake, z, z_fake_mean = model(x, z)\n",
    "            model.zero_grad()\n",
    "            encoder_score = discriminator(x, z_fake)\n",
    "            loss_encoder = encoder_score.mean()\n",
    "            if sup_flag.sum() > 0:\n",
    "                label_z = z_fake_mean[sup_flag, :num_label]\n",
    "                sup_loss = celoss(label_z, label)\n",
    "                label_loss.append(sup_loss.item())\n",
    "            else:\n",
    "                sup_loss = torch.zeros([1], device=device)\n",
    "        \n",
    "            loss_encoder = loss_encoder + sup_loss * 5\n",
    "            loss_encoder.backward()\n",
    "            encoder_optimizer.step()\n",
    "            prior_optimizer.step()\n",
    "            e_loss.append(loss_encoder.item())\n",
    "            \n",
    "            model.zero_grad()\n",
    "            z = torch.randn(x.size(0), latent_dim, device=x.device)\n",
    "            z_fake, x_fake, z, z_fake_mean = model(x, z)\n",
    "            decoder_score = discriminator(x_fake, z)\n",
    "            r_decoder = torch.exp(decoder_score.detach())\n",
    "            s_decoder = r_decoder.clamp(0.5, 2)\n",
    "            loss_decoder = -(s_decoder * decoder_score).mean()\n",
    "            \n",
    "            loss_decoder.backward()\n",
    "            decoder_optimizer.step()\n",
    "            model.module.prior.set_zero_grad()\n",
    "            A_optimizer.step()\n",
    "            prior_optimizer.step()\n",
    "            g_loss.append(loss_decoder.item())\n",
    "    print(f\"[{epoch+1}/{epochs}] Encoder Loss : {sum(e_loss)/number_batches:>.5f} Gen Loss : {sum(g_loss)/number_batches:>.5f} \\\n",
    "    Disc Loss : {sum(disc_loss)/number_batches:>.5f} Label Loss : {sum(label_loss)/number_batches:>.5f} \")\n",
    "    if epoch % 1 == 0:\n",
    "        model.eval()\n",
    "        t = 10\n",
    "        for batch_idx, (x, label) in enumerate(train_dataloader):\n",
    "            with torch.no_grad():\n",
    "                x = x.to(device)\n",
    "                x_ = x[:t]\n",
    "                x_recon = model(x, recon=True)[:10]\n",
    "                x_recon = (x_recon * 0.5) + 0.5\n",
    "                    \n",
    "        \n",
    "                z = torch.randn(x_.size(0), latent_dim, device=x.device)\n",
    "                z_fake, x_fake, z, z_fake_mean = model(x_, z)\n",
    "                print(z_fake_mean[:, :num_label], label[:t])\n",
    "            break"
   ]
  },
  {
   "cell_type": "code",
   "execution_count": null,
   "id": "17772f39",
   "metadata": {},
   "outputs": [],
   "source": []
  }
 ],
 "metadata": {
  "kernelspec": {
   "display_name": "Python 3",
   "language": "python",
   "name": "python3"
  },
  "language_info": {
   "codemirror_mode": {
    "name": "ipython",
    "version": 3
   },
   "file_extension": ".py",
   "mimetype": "text/x-python",
   "name": "python",
   "nbconvert_exporter": "python",
   "pygments_lexer": "ipython3",
   "version": "3.7.12"
  }
 },
 "nbformat": 4,
 "nbformat_minor": 5
}
