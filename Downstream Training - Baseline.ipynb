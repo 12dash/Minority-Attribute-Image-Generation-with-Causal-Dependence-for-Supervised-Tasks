{
 "cells": [
  {
   "cell_type": "markdown",
   "id": "ba2c762b",
   "metadata": {},
   "source": [
    "## Training the downstream task of classification, predicting whether the person in the image is smiling or not\n",
    "\n",
    "The baseline model is trained here where a simple resnet model is used to train on the biased dataset "
   ]
  },
  {
   "cell_type": "code",
   "execution_count": 1,
   "id": "ca26e8e0",
   "metadata": {},
   "outputs": [],
   "source": [
    "import pandas as pd\n",
    "from PIL import Image\n",
    "from models.resnet import *\n",
    "\n",
    "import torch\n",
    "from torch.utils.data import DataLoader, Dataset\n",
    "from torchvision.transforms import ToTensor, Compose, Resize, Normalize, CenterCrop\n",
    "import torch.nn as nn\n",
    "import torch.optim as optim\n",
    "import torch.nn.functional as F\n",
    "from tqdm.notebook import tqdm\n",
    "\n",
    "from sklearn.utils.class_weight import compute_class_weight"
   ]
  },
  {
   "cell_type": "code",
   "execution_count": 2,
   "id": "a8715cfa",
   "metadata": {},
   "outputs": [],
   "source": [
    "class ImageDataset(Dataset):\n",
    "    def __init__(self, root_folder, file_name, transform, attr, img_folder = None, label = None, weights = None):\n",
    "        self.transform=transform\n",
    "        self.img_folder=root_folder+img_folder\n",
    "        \n",
    "        self.df = pd.read_csv(root_folder+file_name+'.csv').replace(-1,0).reset_index(drop=True)\n",
    "        self.image_names = self.df.pop('image_id')\n",
    "        self.attr = self.df[attr].values\n",
    "        self.label = self.df[label].values\n",
    "        self.weights = weights if weights is not None else None\n",
    "   \n",
    "    def __len__(self):\n",
    "        return len(self.image_names)\n",
    " \n",
    "    def __getitem__(self, index):\n",
    "        image_path = self.img_folder + self.image_names[index]\n",
    "        image=Image.open(image_path)\n",
    "        image=self.transform(image)\n",
    "        label = torch.tensor(self.label[index], dtype=torch.float32)\n",
    "        weight = self.weights[self.label[index]][self.attr[index]] if self.weights is not None else 0\n",
    "        weight = torch.tensor(weight, dtype=torch.float32)\n",
    "        return image, label, weight, self.attr[index]"
   ]
  },
  {
   "cell_type": "code",
   "execution_count": 3,
   "id": "82622c3d",
   "metadata": {},
   "outputs": [],
   "source": [
    "def get_weights(file, label, attr, root, classes = [\"00\",\"01\", \"10\", \"11\"]):\n",
    "    df = pd.read_csv(f'{root}{file}.csv').replace(-1,0)\n",
    "    l = []\n",
    "    for _, row in df.iterrows():\n",
    "        l.append(str(row[label])+str(row[attr]))\n",
    "    df['classes'] = pd.Series(l)\n",
    "    display(df['classes'].value_counts())\n",
    "    weights = compute_class_weight(class_weight = 'balanced', y = df['classes'], classes = classes)\n",
    "    weights = {\n",
    "        0 : {0:weights[0], 1:weights[1]}, \n",
    "        1 : {0:weights[2], 1:weights[3]}, \n",
    "    }\n",
    "    return weights"
   ]
  },
  {
   "cell_type": "code",
   "execution_count": 4,
   "id": "7d9d30c7",
   "metadata": {},
   "outputs": [],
   "source": [
    "device = \"cuda\" if torch.cuda.is_available() else \"mps\" if torch.backends.mps.is_available() else \"cpu\""
   ]
  },
  {
   "cell_type": "code",
   "execution_count": 5,
   "id": "dbbb9561",
   "metadata": {},
   "outputs": [],
   "source": [
    "img_dim = 64\n",
    "batch_size = 128\n",
    "\n",
    "root_folder = 'dataset/celebA/'\n",
    "img_folder = 'img/img_align_celebA/'\n",
    "file_name = 'dear_train_downsample_smile'\n",
    "\n",
    "label = 'Smiling'\n",
    "attr = 'Male'\n",
    "\n",
    "apply_weight = True"
   ]
  },
  {
   "cell_type": "code",
   "execution_count": 6,
   "id": "06400ac7",
   "metadata": {},
   "outputs": [
    {
     "data": {
      "text/plain": [
       "10    51066\n",
       "01    40556\n",
       "00     4342\n",
       "11     2704\n",
       "Name: classes, dtype: int64"
      ]
     },
     "metadata": {},
     "output_type": "display_data"
    },
    {
     "data": {
      "text/plain": [
       "{0: {0: 5.681022570244127, 1: 0.6082207318275964},\n",
       " 1: {0: 0.4830415540672855, 1: 9.122411242603551}}"
      ]
     },
     "execution_count": 6,
     "metadata": {},
     "output_type": "execute_result"
    }
   ],
   "source": [
    "weights = get_weights(file_name, label, attr = attr, root = root_folder)\n",
    "weights"
   ]
  },
  {
   "cell_type": "code",
   "execution_count": 7,
   "id": "cb395b46",
   "metadata": {},
   "outputs": [],
   "source": [
    "transform = Compose([CenterCrop(128),\n",
    "                     Resize((img_dim, img_dim)),\n",
    "                     ToTensor(),\n",
    "                     Normalize((0.5, 0.5, 0.5), (0.5, 0.5, 0.5))])\n",
    "data = ImageDataset(root_folder=root_folder, file_name = file_name, transform=transform,\n",
    "                    img_folder = img_folder,\n",
    "                    attr = attr, label = label, weights = weights)\n",
    "train_dataloader = DataLoader(data, batch_size = batch_size,shuffle = True)\n",
    "\n",
    "testdata = ImageDataset(root_folder='dataset/celebA/', file_name = 'dear_test', \n",
    "                        transform=transform,\n",
    "                        img_folder = 'img/img_align_celebA/',\n",
    "                        attr = attr, label = label)\n",
    "test_dataloader = DataLoader(testdata, batch_size = batch_size,shuffle = True)"
   ]
  },
  {
   "cell_type": "code",
   "execution_count": 8,
   "id": "414a44b3",
   "metadata": {},
   "outputs": [
    {
     "name": "stdout",
     "output_type": "stream",
     "text": [
      "Number of samples :  98668\n"
     ]
    }
   ],
   "source": [
    "print(\"Number of samples : \", len(train_dataloader.dataset))"
   ]
  },
  {
   "cell_type": "code",
   "execution_count": 9,
   "id": "c492c31e",
   "metadata": {},
   "outputs": [],
   "source": [
    "model = resnet18(pretrained=False, in_channels=3, fc_size=2048, out_dim=1).to(device)"
   ]
  },
  {
   "cell_type": "code",
   "execution_count": 10,
   "id": "c1fb4120",
   "metadata": {},
   "outputs": [],
   "source": [
    "def element_weighted_loss(y_hat, y, weights):\n",
    "    criterion = nn.BCEWithLogitsLoss(reduction='none')\n",
    "    loss = criterion(y_hat, y)\n",
    "    loss = loss * weights\n",
    "    return loss.sum() / weights.sum()"
   ]
  },
  {
   "cell_type": "code",
   "execution_count": 11,
   "id": "2e00ea4e",
   "metadata": {},
   "outputs": [],
   "source": [
    "optimizer = optim.Adam(model.parameters())"
   ]
  },
  {
   "cell_type": "code",
   "execution_count": 12,
   "id": "bd13d89c",
   "metadata": {},
   "outputs": [],
   "source": [
    "num = len(train_dataloader.dataset)//batch_size + 1"
   ]
  },
  {
   "cell_type": "code",
   "execution_count": 13,
   "id": "d43e656e",
   "metadata": {},
   "outputs": [],
   "source": [
    "criterion = nn.BCEWithLogitsLoss()"
   ]
  },
  {
   "cell_type": "code",
   "execution_count": 14,
   "id": "76516ae4",
   "metadata": {},
   "outputs": [
    {
     "data": {
      "application/vnd.jupyter.widget-view+json": {
       "model_id": "0bd5578101084240ba7ce0e9890e29a9",
       "version_major": 2,
       "version_minor": 0
      },
      "text/plain": [
       "  0%|          | 0/771 [00:00<?, ?it/s]"
      ]
     },
     "metadata": {},
     "output_type": "display_data"
    },
    {
     "name": "stdout",
     "output_type": "stream",
     "text": [
      "[1] loss: 20.952\n"
     ]
    },
    {
     "data": {
      "application/vnd.jupyter.widget-view+json": {
       "model_id": "3cd16b92e2b44cea8ca77c7dc072cbfc",
       "version_major": 2,
       "version_minor": 0
      },
      "text/plain": [
       "  0%|          | 0/771 [00:00<?, ?it/s]"
      ]
     },
     "metadata": {},
     "output_type": "display_data"
    },
    {
     "name": "stdout",
     "output_type": "stream",
     "text": [
      "[2] loss: 15.067\n"
     ]
    },
    {
     "data": {
      "application/vnd.jupyter.widget-view+json": {
       "model_id": "158989e1ffad42aaab7056399f60703a",
       "version_major": 2,
       "version_minor": 0
      },
      "text/plain": [
       "  0%|          | 0/771 [00:00<?, ?it/s]"
      ]
     },
     "metadata": {},
     "output_type": "display_data"
    },
    {
     "name": "stdout",
     "output_type": "stream",
     "text": [
      "[3] loss: 13.441\n"
     ]
    },
    {
     "data": {
      "application/vnd.jupyter.widget-view+json": {
       "model_id": "a6641bbd43884208926845f297e788ab",
       "version_major": 2,
       "version_minor": 0
      },
      "text/plain": [
       "  0%|          | 0/771 [00:00<?, ?it/s]"
      ]
     },
     "metadata": {},
     "output_type": "display_data"
    },
    {
     "name": "stdout",
     "output_type": "stream",
     "text": [
      "[4] loss: 12.650\n"
     ]
    },
    {
     "data": {
      "application/vnd.jupyter.widget-view+json": {
       "model_id": "9b6af394ed474e608fdab24a4f738ad7",
       "version_major": 2,
       "version_minor": 0
      },
      "text/plain": [
       "  0%|          | 0/771 [00:00<?, ?it/s]"
      ]
     },
     "metadata": {},
     "output_type": "display_data"
    },
    {
     "name": "stdout",
     "output_type": "stream",
     "text": [
      "[5] loss: 11.996\n"
     ]
    },
    {
     "data": {
      "application/vnd.jupyter.widget-view+json": {
       "model_id": "d8b67852b4ef4c82a062ceb0d3594962",
       "version_major": 2,
       "version_minor": 0
      },
      "text/plain": [
       "  0%|          | 0/771 [00:00<?, ?it/s]"
      ]
     },
     "metadata": {},
     "output_type": "display_data"
    },
    {
     "name": "stdout",
     "output_type": "stream",
     "text": [
      "[6] loss: 11.424\n"
     ]
    },
    {
     "data": {
      "application/vnd.jupyter.widget-view+json": {
       "model_id": "77dceea114f14510a3ca0bb1e2c6081f",
       "version_major": 2,
       "version_minor": 0
      },
      "text/plain": [
       "  0%|          | 0/771 [00:00<?, ?it/s]"
      ]
     },
     "metadata": {},
     "output_type": "display_data"
    },
    {
     "name": "stdout",
     "output_type": "stream",
     "text": [
      "[7] loss: 10.536\n"
     ]
    },
    {
     "data": {
      "application/vnd.jupyter.widget-view+json": {
       "model_id": "a9899825c812484fbc84197fb425a60a",
       "version_major": 2,
       "version_minor": 0
      },
      "text/plain": [
       "  0%|          | 0/771 [00:00<?, ?it/s]"
      ]
     },
     "metadata": {},
     "output_type": "display_data"
    },
    {
     "name": "stdout",
     "output_type": "stream",
     "text": [
      "[8] loss: 10.280\n"
     ]
    },
    {
     "data": {
      "application/vnd.jupyter.widget-view+json": {
       "model_id": "658e26b3b792457aa01243f1ebcf47f7",
       "version_major": 2,
       "version_minor": 0
      },
      "text/plain": [
       "  0%|          | 0/771 [00:00<?, ?it/s]"
      ]
     },
     "metadata": {},
     "output_type": "display_data"
    },
    {
     "name": "stdout",
     "output_type": "stream",
     "text": [
      "[9] loss: 9.163\n"
     ]
    },
    {
     "data": {
      "application/vnd.jupyter.widget-view+json": {
       "model_id": "01c23071908a4751a28162255cc4aff0",
       "version_major": 2,
       "version_minor": 0
      },
      "text/plain": [
       "  0%|          | 0/771 [00:00<?, ?it/s]"
      ]
     },
     "metadata": {},
     "output_type": "display_data"
    },
    {
     "name": "stdout",
     "output_type": "stream",
     "text": [
      "[10] loss: 8.089\n",
      "Finished Training\n"
     ]
    }
   ],
   "source": [
    "model.train()\n",
    "for epoch in range(10):  \n",
    "    running_loss = 0.0\n",
    "    for i, data in tqdm(enumerate(train_dataloader), total = num):\n",
    "        inputs, labels, weights, attr = data\n",
    "        inputs, labels, weights, attr = inputs.to(device), labels.to(device), weights.to(device), attr.to(device)\n",
    "        optimizer.zero_grad()\n",
    "        outputs, _ = model(inputs)\n",
    "        if apply_weight:\n",
    "            loss = element_weighted_loss(outputs, labels.unsqueeze(1), weights)\n",
    "        else:\n",
    "            loss = criterion(outputs, labels.unsqueeze(1))\n",
    "        loss.backward()\n",
    "        optimizer.step()\n",
    "        running_loss += loss.item()\n",
    "    print(f'[{epoch + 1}] loss: {running_loss / num:.3f}')\n",
    "print('Finished Training')"
   ]
  },
  {
   "cell_type": "code",
   "execution_count": 15,
   "id": "d0ebcf68",
   "metadata": {},
   "outputs": [
    {
     "data": {
      "application/vnd.jupyter.widget-view+json": {
       "model_id": "73cd3cb107ba495095ad64aaf5e3c8c7",
       "version_major": 2,
       "version_minor": 0
      },
      "text/plain": [
       "  0%|          | 0/158 [00:00<?, ?it/s]"
      ]
     },
     "metadata": {},
     "output_type": "display_data"
    }
   ],
   "source": [
    "#class:{attr:}\n",
    "correct_pred = {0:{0:0,1:0},1:{0:0,1:0}}\n",
    "total_pred = {0:{0:0,1:0},1:{0:0,1:0}}\n",
    "model.eval()\n",
    "label_l = []\n",
    "pred_l = []\n",
    "with torch.no_grad():\n",
    "    for data in tqdm(test_dataloader, total=len(test_dataloader.dataset)//batch_size):\n",
    "        inputs, labels, weights, attrs = data\n",
    "        inputs, labels, weights, attrs = inputs.to(device), labels.to(device), weights.to(device), attrs.to(device)\n",
    "        outputs, _ = model(inputs)\n",
    "        predictions = torch.round(torch.sigmoid(outputs))\n",
    "        for label, prediction, attr in zip(labels, predictions, attrs):\n",
    "            if label == prediction:\n",
    "                correct_pred[label.item()][attr.item()] += 1\n",
    "            total_pred[label.item()][attr.item()] += 1\n",
    "            label_l.append(label.item())\n",
    "            pred_l.append(prediction.item())"
   ]
  },
  {
   "cell_type": "code",
   "execution_count": 16,
   "id": "95fad1e7",
   "metadata": {},
   "outputs": [
    {
     "name": "stdout",
     "output_type": "stream",
     "text": [
      "Accuracy for class: 0 , attr: 0: 82.93446244477173 total: 5432 \n",
      "Accuracy for class: 0 , attr: 1: 98.89513860988349 total: 4978 \n",
      "Accuracy for class: 1 , attr: 0: 96.08026131591227 total: 6429 \n",
      "Accuracy for class: 1 , attr: 1: 63.19789535223619 total: 3421 \n"
     ]
    }
   ],
   "source": [
    "for classname, correct_counts in correct_pred.items():\n",
    "    for attr_name, correct_count in correct_counts.items():\n",
    "        accuracy = 100 * float(correct_count) / total_pred[classname][attr_name]\n",
    "        print(f'Accuracy for class: {classname} , attr: {attr_name}: {accuracy} total: {total_pred[classname][attr_name]} ')"
   ]
  },
  {
   "cell_type": "code",
   "execution_count": 17,
   "id": "4a06cf2a",
   "metadata": {},
   "outputs": [
    {
     "name": "stdout",
     "output_type": "stream",
     "text": [
      "              precision    recall  f1-score   support\n",
      "\n",
      "           0       0.86      0.91      0.88     10410\n",
      "           1       0.89      0.85      0.87      9850\n",
      "\n",
      "    accuracy                           0.88     20260\n",
      "   macro avg       0.88      0.88      0.88     20260\n",
      "weighted avg       0.88      0.88      0.88     20260\n",
      "\n"
     ]
    }
   ],
   "source": [
    "from sklearn.metrics import classification_report\n",
    "print(classification_report(label_l, pred_l, labels=[0, 1]))"
   ]
  },
  {
   "cell_type": "code",
   "execution_count": null,
   "id": "896ed916",
   "metadata": {},
   "outputs": [],
   "source": []
  }
 ],
 "metadata": {
  "kernelspec": {
   "display_name": "Python 3 (ipykernel)",
   "language": "python",
   "name": "python3"
  },
  "language_info": {
   "codemirror_mode": {
    "name": "ipython",
    "version": 3
   },
   "file_extension": ".py",
   "mimetype": "text/x-python",
   "name": "python",
   "nbconvert_exporter": "python",
   "pygments_lexer": "ipython3",
   "version": "3.10.10"
  }
 },
 "nbformat": 4,
 "nbformat_minor": 5
}
