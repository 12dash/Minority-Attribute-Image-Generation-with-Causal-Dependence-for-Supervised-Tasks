{
 "cells": [
  {
   "cell_type": "code",
   "execution_count": 1,
   "id": "8d1c7d02",
   "metadata": {},
   "outputs": [],
   "source": [
    "import os\n",
    "import torch\n",
    "import numpy as np\n",
    "import pandas as pd\n",
    "from PIL import Image\n",
    "import matplotlib.pyplot as plt\n",
    "\n",
    "import torch.optim as optim\n",
    "from torch.autograd import Variable\n",
    "import torch.nn.functional as F\n",
    "import torch.nn as nn\n",
    "\n",
    "from Encoder import Encoder, reparameterize\n",
    "from Generator import Generator\n",
    "from Discriminator import BigJointDiscriminator\n",
    "\n",
    "from torch.utils.data import DataLoader, Dataset\n",
    "from torchvision.transforms import ToTensor, Compose, Resize, Normalize\n",
    "\n",
    "from tqdm.notebook import tqdm\n",
    "import seaborn as sns"
   ]
  },
  {
   "cell_type": "code",
   "execution_count": 12,
   "id": "904f89cf",
   "metadata": {},
   "outputs": [
    {
     "name": "stdout",
     "output_type": "stream",
     "text": [
      "Using cuda device\n"
     ]
    }
   ],
   "source": [
    "device = \"cuda\" if torch.cuda.is_available() else \"mps\" if torch.backends.mps.is_available() else \"cpu\"\n",
    "print(f\"Using {device} device\")"
   ]
  },
  {
   "cell_type": "code",
   "execution_count": 63,
   "id": "3c19e635",
   "metadata": {},
   "outputs": [],
   "source": [
    "class InvertiblePriorLinear(nn.Module):\n",
    "    def __init__(self):\n",
    "        super(InvertiblePriorLinear, self).__init__()\n",
    "        self.a = torch.rand(1, device = device)\n",
    "        self.b = torch.rand(1, device = device)\n",
    "\n",
    "    def forward(self, eps):\n",
    "        o = self.a * eps + self.b\n",
    "        return o\n",
    "    def inverse(self, o):\n",
    "        eps = (o - self.b)/self.a\n",
    "        return eps\n",
    "\n",
    "class InvertiblePriorInv(nn.Module):\n",
    "    \"\"\"docstring for InvertiblePrior\"\"\"\n",
    "    def __init__(self,prior):\n",
    "        super(InvertiblePriorInv, self).__init__()\n",
    "        self.prior = prior\n",
    "    def forward(self, o):\n",
    "        return self.prior.inverse(o)\n",
    "    def inverse(self, eps):\n",
    "        return self.prior(eps)\n",
    "\n",
    "\n",
    "class SCM(nn.Module):\n",
    "    def __init__(self, d, A=None, scm_type='mlp'):\n",
    "        super().__init__()\n",
    "        self.d = d\n",
    "        self.A_given = A\n",
    "        self.A_fix_idx = A == 0\n",
    "        self.A = nn.Parameter(torch.zeros(d, d))\n",
    "\n",
    "        prior_net_model = lambda : InvertiblePriorLinear()\n",
    "        prior_net_enc_model = lambda x: InvertiblePriorInv(x)\n",
    "        \n",
    "        for i in range(d):\n",
    "            setattr(self, \"prior_net%d\" % i, prior_net_model())\n",
    "            setattr(self, \"enc_net%d\" % i, prior_net_enc_model(getattr(self, \"prior_net%d\" % i)))\n",
    "\n",
    "    def set_zero_grad(self):\n",
    "        if self.A_given is None:\n",
    "            pass\n",
    "        else:\n",
    "            for i in range(self.d):\n",
    "                for j in range(self.d):\n",
    "                    if self.A_fix_idx[i, j]:\n",
    "                        self.A.grad.data[i, j].zero_()\n",
    "\n",
    "    def prior_nlr(self, z):\n",
    "        '''Nonlinear transformation f_2(z)'''\n",
    "        zs = torch.split(z, 1, dim=1)\n",
    "        z_new = []\n",
    "        for i in range(self.d):\n",
    "            z_new.append(getattr(self, \"prior_net%d\" % i)(zs[i]))\n",
    "        return torch.cat(z_new, dim=1)\n",
    "\n",
    "    def enc_nlr(self, z):\n",
    "        '''f_2^{-1}(z)'''\n",
    "        zs = torch.split(z, 1, dim=1)\n",
    "        z_new = []\n",
    "        for i in range(self.d):\n",
    "            z_new.append(getattr(self, \"enc_net%d\" % i)(zs[i]))\n",
    "        return torch.cat(z_new, dim=1)\n",
    "\n",
    "    def mask(self, z): # Az\n",
    "        z = torch.matmul(z, self.A)\n",
    "        return z\n",
    "\n",
    "    def inv_cal(self, eps): # (I-A)^{-1}*eps\n",
    "        adj_normalized = torch.inverse(torch.eye(self.A.shape[0], device=self.A.device) - self.A)\n",
    "        z_pre = torch.matmul(eps, adj_normalized)\n",
    "        return z_pre\n",
    "\n",
    "    def get_eps(self, z):\n",
    "        '''Returns epsilon from f_2^{-1}(z)'''\n",
    "        return torch.matmul(z, torch.eye(self.A.shape[0], device=self.A.device) - self.A)\n",
    "\n",
    "    def intervene(self, z, z_ori):\n",
    "        # f_2^{-1}(z)\n",
    "        z_ori = self.enc_nlr(z_ori)\n",
    "        z = self.enc_nlr(z)\n",
    "        # masked nonlinear z\n",
    "        z_new = self.mask(z)\n",
    "        z_new = z_new + self.get_eps(z_ori)\n",
    "        return self.prior_nlr(z_new)\n",
    "\n",
    "    def forward(self, eps=None, z=None):\n",
    "        if eps is not None and z is None:\n",
    "            # (I-A.t)^{-1}*eps\n",
    "            z = self.inv_cal(eps) # n x d\n",
    "            # nonlinear transform\n",
    "            return self.prior_nlr(z)\n",
    "        else:\n",
    "            # f_2^{-1}(z)\n",
    "            z = self.enc_nlr(z)\n",
    "            # mask z\n",
    "            z_new = self.mask(z) # new f_2^{-1}(z) (without noise)\n",
    "            return z_new, z"
   ]
  },
  {
   "cell_type": "code",
   "execution_count": 64,
   "id": "e8cf6419",
   "metadata": {},
   "outputs": [],
   "source": [
    "class ImageDataset(Dataset):\n",
    "    def __init__(self,root_folder,transform, cols = None):\n",
    "        self.transform=transform\n",
    "        self.img_folder=root_folder+'img/'\n",
    "\n",
    "        self.image_names=[i for i in os.listdir(self.img_folder) if '.jpg' in i]\n",
    "        self.attr = pd.read_csv(root_folder+'attr.csv').replace(-1,0)\n",
    "        _ = self.attr.pop('image_id')\n",
    "        if cols is not None:\n",
    "            self.attr = self.attr[cols]    \n",
    "        self.num_feat = len(self.attr.columns)\n",
    "        self.order = list(self.attr.columns)\n",
    "        \n",
    "        self.attr = self.attr.values\n",
    "   \n",
    "    def __len__(self):\n",
    "        return len(self.image_names)\n",
    " \n",
    "    def __getitem__(self, index):\n",
    "        image_path = self.img_folder + self.image_names[index]\n",
    "        image=Image.open(image_path)\n",
    "        image=self.transform(image)\n",
    "        label = torch.tensor(self.attr[index], dtype = torch.float)\n",
    "\n",
    "        return image, label\n",
    "\n",
    "def get_train_dataloader(root_folder, img_dim=64, batch_size=32, cols = None):\n",
    "\n",
    "    transform = Compose([Resize((img_dim, img_dim)),\n",
    "                        ToTensor(),\n",
    "                        Normalize((0.5, 0.5, 0.5), (0.5, 0.5, 0.5))])\n",
    "    training_data = ImageDataset(root_folder='sample_data/',transform=transform, cols = cols)\n",
    "    train_dataloader = DataLoader(training_data, batch_size = batch_size)\n",
    "    return train_dataloader"
   ]
  },
  {
   "cell_type": "code",
   "execution_count": 65,
   "id": "c5398c59",
   "metadata": {},
   "outputs": [],
   "source": [
    "cols = ['Smiling', 'Male', 'High_Cheekbones', 'Mouth_Slightly_Open', 'Narrow_Eyes', 'Chubby']"
   ]
  },
  {
   "cell_type": "code",
   "execution_count": 66,
   "id": "a5deb997",
   "metadata": {},
   "outputs": [],
   "source": [
    "root_folder = 'sample_data/'\n",
    "\n",
    "in_channels = 3\n",
    "fc_size = 2048\n",
    "latent_dim = 100\n",
    "\n",
    "img_dim = 64\n",
    "batch_size = 32\n",
    "\n",
    "num_label = len(cols)"
   ]
  },
  {
   "cell_type": "code",
   "execution_count": 67,
   "id": "08e6ac68",
   "metadata": {},
   "outputs": [],
   "source": [
    "train_dataloader = get_train_dataloader(root_folder, img_dim=img_dim, batch_size=batch_size, cols = cols)"
   ]
  },
  {
   "cell_type": "code",
   "execution_count": 68,
   "id": "59e72005",
   "metadata": {},
   "outputs": [],
   "source": [
    "A = torch.zeros((num_label, num_label), device = device)\n",
    "A[0, 2:6] = 1\n",
    "A[1, 4] = 1"
   ]
  },
  {
   "cell_type": "code",
   "execution_count": 69,
   "id": "637552cd",
   "metadata": {},
   "outputs": [
    {
     "data": {
      "text/plain": [
       "tensor([[0., 0., 1., 1., 1., 1.],\n",
       "        [0., 0., 0., 0., 1., 0.],\n",
       "        [0., 0., 0., 0., 0., 0.],\n",
       "        [0., 0., 0., 0., 0., 0.],\n",
       "        [0., 0., 0., 0., 0., 0.],\n",
       "        [0., 0., 0., 0., 0., 0.]], device='cuda:0')"
      ]
     },
     "execution_count": 69,
     "metadata": {},
     "output_type": "execute_result"
    }
   ],
   "source": [
    "A"
   ]
  },
  {
   "cell_type": "code",
   "execution_count": 70,
   "id": "a30c0d89",
   "metadata": {},
   "outputs": [],
   "source": [
    "e = Encoder(latent_dim = latent_dim, fc_size = fc_size).to(device)\n",
    "g = Generator(latent_dim = latent_dim, image_size = img_dim).to(device)\n",
    "disc = BigJointDiscriminator(latent_dim = latent_dim, image_size = img_dim).to(device)"
   ]
  },
  {
   "cell_type": "code",
   "execution_count": 71,
   "id": "6c7b474e",
   "metadata": {},
   "outputs": [],
   "source": [
    "prior = SCM(num_label, A, scm_type='linscm').to(device)\n",
    "prior_param = list(prior.parameters())\n",
    "A_optimizer = optim.Adam(prior_param[0:1], lr=5e-4)\n",
    "p_optimizer = optim.Adam(prior_param[1:],  lr=5e-4, betas=(0, 0.999))"
   ]
  },
  {
   "cell_type": "code",
   "execution_count": 72,
   "id": "25f5d2a6",
   "metadata": {},
   "outputs": [],
   "source": [
    "e_optimizer = optim.Adam(e.parameters(), lr=5e-5, betas=(0, 0.999))\n",
    "g_optimizer = optim.Adam(g.parameters(), lr=5e-5, betas=(0, 0.999))\n",
    "d_optimizer = optim.Adam(disc.parameters(), lr=1e-4, betas=(0, 0.999))"
   ]
  },
  {
   "cell_type": "code",
   "execution_count": 73,
   "id": "a492581d",
   "metadata": {},
   "outputs": [],
   "source": [
    "num = len(train_dataloader.dataset)//batch_size\n",
    "\n",
    "epochs = 5"
   ]
  },
  {
   "cell_type": "code",
   "execution_count": 74,
   "id": "4ba189f6",
   "metadata": {},
   "outputs": [],
   "source": [
    "disc_steps = 1\n",
    "g_steps = 1\n",
    "e_steps = 1\n",
    "\n",
    "celoss = torch.nn.BCEWithLogitsLoss()"
   ]
  },
  {
   "cell_type": "code",
   "execution_count": 75,
   "id": "c68bafe4",
   "metadata": {},
   "outputs": [
    {
     "data": {
      "application/vnd.jupyter.widget-view+json": {
       "model_id": "756549347c3c4733b3aa223cffc6ee0b",
       "version_major": 2,
       "version_minor": 0
      },
      "text/plain": [
       "  0%|          | 0/5 [00:00<?, ?it/s]"
      ]
     },
     "metadata": {},
     "output_type": "display_data"
    },
    {
     "data": {
      "application/vnd.jupyter.widget-view+json": {
       "model_id": "7753e01c5295413aacd61e21aa6f1758",
       "version_major": 2,
       "version_minor": 0
      },
      "text/plain": [
       "  0%|          | 0/316 [00:00<?, ?it/s]"
      ]
     },
     "metadata": {},
     "output_type": "display_data"
    },
    {
     "name": "stderr",
     "output_type": "stream",
     "text": [
      "/opt/conda/lib/python3.7/site-packages/torch/autograd/__init__.py:199: UserWarning: Error detected in MulBackward0. Traceback of forward call that caused the error:\n",
      "  File \"/opt/conda/lib/python3.7/runpy.py\", line 193, in _run_module_as_main\n",
      "    \"__main__\", mod_spec)\n",
      "  File \"/opt/conda/lib/python3.7/runpy.py\", line 85, in _run_code\n",
      "    exec(code, run_globals)\n",
      "  File \"/opt/conda/lib/python3.7/site-packages/ipykernel_launcher.py\", line 17, in <module>\n",
      "    app.launch_new_instance()\n",
      "  File \"/opt/conda/lib/python3.7/site-packages/traitlets/config/application.py\", line 1043, in launch_instance\n",
      "    app.start()\n",
      "  File \"/opt/conda/lib/python3.7/site-packages/ipykernel/kernelapp.py\", line 712, in start\n",
      "    self.io_loop.start()\n",
      "  File \"/opt/conda/lib/python3.7/site-packages/tornado/platform/asyncio.py\", line 215, in start\n",
      "    self.asyncio_loop.run_forever()\n",
      "  File \"/opt/conda/lib/python3.7/asyncio/base_events.py\", line 541, in run_forever\n",
      "    self._run_once()\n",
      "  File \"/opt/conda/lib/python3.7/asyncio/base_events.py\", line 1786, in _run_once\n",
      "    handle._run()\n",
      "  File \"/opt/conda/lib/python3.7/asyncio/events.py\", line 88, in _run\n",
      "    self._context.run(self._callback, *self._args)\n",
      "  File \"/opt/conda/lib/python3.7/site-packages/ipykernel/kernelbase.py\", line 510, in dispatch_queue\n",
      "    await self.process_one()\n",
      "  File \"/opt/conda/lib/python3.7/site-packages/ipykernel/kernelbase.py\", line 499, in process_one\n",
      "    await dispatch(*args)\n",
      "  File \"/opt/conda/lib/python3.7/site-packages/ipykernel/kernelbase.py\", line 406, in dispatch_shell\n",
      "    await result\n",
      "  File \"/opt/conda/lib/python3.7/site-packages/ipykernel/kernelbase.py\", line 730, in execute_request\n",
      "    reply_content = await reply_content\n",
      "  File \"/opt/conda/lib/python3.7/site-packages/ipykernel/ipkernel.py\", line 387, in do_execute\n",
      "    cell_id=cell_id,\n",
      "  File \"/opt/conda/lib/python3.7/site-packages/ipykernel/zmqshell.py\", line 528, in run_cell\n",
      "    return super().run_cell(*args, **kwargs)\n",
      "  File \"/opt/conda/lib/python3.7/site-packages/IPython/core/interactiveshell.py\", line 2976, in run_cell\n",
      "    raw_cell, store_history, silent, shell_futures, cell_id\n",
      "  File \"/opt/conda/lib/python3.7/site-packages/IPython/core/interactiveshell.py\", line 3030, in _run_cell\n",
      "    return runner(coro)\n",
      "  File \"/opt/conda/lib/python3.7/site-packages/IPython/core/async_helpers.py\", line 78, in _pseudo_sync_runner\n",
      "    coro.send(None)\n",
      "  File \"/opt/conda/lib/python3.7/site-packages/IPython/core/interactiveshell.py\", line 3258, in run_cell_async\n",
      "    interactivity=interactivity, compiler=compiler, result=result)\n",
      "  File \"/opt/conda/lib/python3.7/site-packages/IPython/core/interactiveshell.py\", line 3473, in run_ast_nodes\n",
      "    if (await self.run_code(code, result,  async_=asy)):\n",
      "  File \"/opt/conda/lib/python3.7/site-packages/IPython/core/interactiveshell.py\", line 3553, in run_code\n",
      "    exec(code_obj, self.user_global_ns, self.user_ns)\n",
      "  File \"/var/tmp/ipykernel_27011/551783859.py\", line 54, in <module>\n",
      "    label_z = prior(z[:, :num_label])\n",
      "  File \"/opt/conda/lib/python3.7/site-packages/torch/nn/modules/module.py\", line 1194, in _call_impl\n",
      "    return forward_call(*input, **kwargs)\n",
      "  File \"/var/tmp/ipykernel_27011/1873328012.py\", line 93, in forward\n",
      "    return self.prior_nlr(z)\n",
      "  File \"/var/tmp/ipykernel_27011/1873328012.py\", line 55, in prior_nlr\n",
      "    z_new.append(getattr(self, \"prior_net%d\" % i)(zs[i]))\n",
      "  File \"/opt/conda/lib/python3.7/site-packages/torch/nn/modules/module.py\", line 1194, in _call_impl\n",
      "    return forward_call(*input, **kwargs)\n",
      "  File \"/var/tmp/ipykernel_27011/1873328012.py\", line 9, in forward\n",
      "    o = self.a * eps + self.b\n",
      "  File \"/opt/conda/lib/python3.7/site-packages/torch/fx/traceback.py\", line 57, in format_stack\n",
      "    return traceback.format_stack()\n",
      " (Triggered internally at ../torch/csrc/autograd/python_anomaly_mode.cpp:114.)\n",
      "  allow_unreachable=True, accumulate_grad=True)  # Calls into the C++ engine to run the backward pass\n"
     ]
    },
    {
     "ename": "RuntimeError",
     "evalue": "one of the variables needed for gradient computation has been modified by an inplace operation: [torch.cuda.FloatTensor [1]] is at version 2; expected version 1 instead. Hint: the backtrace further above shows the operation that failed to compute its gradient. The variable in question was changed in there or anywhere later. Good luck!",
     "output_type": "error",
     "traceback": [
      "\u001b[0;31m---------------------------------------------------------------------------\u001b[0m",
      "\u001b[0;31mRuntimeError\u001b[0m                              Traceback (most recent call last)",
      "\u001b[0;32m/var/tmp/ipykernel_27011/551783859.py\u001b[0m in \u001b[0;36m<module>\u001b[0;34m\u001b[0m\n\u001b[1;32m     71\u001b[0m                 \u001b[0mloss_decoder\u001b[0m \u001b[0;34m=\u001b[0m \u001b[0;34m-\u001b[0m\u001b[0;34m(\u001b[0m\u001b[0ms_decoder\u001b[0m \u001b[0;34m*\u001b[0m \u001b[0mg_score\u001b[0m\u001b[0;34m)\u001b[0m\u001b[0;34m.\u001b[0m\u001b[0mmean\u001b[0m\u001b[0;34m(\u001b[0m\u001b[0;34m)\u001b[0m\u001b[0;34m\u001b[0m\u001b[0;34m\u001b[0m\u001b[0m\n\u001b[1;32m     72\u001b[0m                 \u001b[0mg_loss\u001b[0m\u001b[0;34m.\u001b[0m\u001b[0mappend\u001b[0m\u001b[0;34m(\u001b[0m\u001b[0mloss_decoder\u001b[0m\u001b[0;34m.\u001b[0m\u001b[0mitem\u001b[0m\u001b[0;34m(\u001b[0m\u001b[0;34m)\u001b[0m\u001b[0;34m)\u001b[0m\u001b[0;34m\u001b[0m\u001b[0;34m\u001b[0m\u001b[0m\n\u001b[0;32m---> 73\u001b[0;31m                 \u001b[0mloss_decoder\u001b[0m\u001b[0;34m.\u001b[0m\u001b[0mbackward\u001b[0m\u001b[0;34m(\u001b[0m\u001b[0;34m)\u001b[0m\u001b[0;34m\u001b[0m\u001b[0;34m\u001b[0m\u001b[0m\n\u001b[0m\u001b[1;32m     74\u001b[0m                 \u001b[0mg_optimizer\u001b[0m\u001b[0;34m.\u001b[0m\u001b[0mstep\u001b[0m\u001b[0;34m(\u001b[0m\u001b[0;34m)\u001b[0m\u001b[0;34m\u001b[0m\u001b[0;34m\u001b[0m\u001b[0m\n\u001b[1;32m     75\u001b[0m \u001b[0;34m\u001b[0m\u001b[0m\n",
      "\u001b[0;32m/opt/conda/lib/python3.7/site-packages/torch/_tensor.py\u001b[0m in \u001b[0;36mbackward\u001b[0;34m(self, gradient, retain_graph, create_graph, inputs)\u001b[0m\n\u001b[1;32m    487\u001b[0m             )\n\u001b[1;32m    488\u001b[0m         torch.autograd.backward(\n\u001b[0;32m--> 489\u001b[0;31m             \u001b[0mself\u001b[0m\u001b[0;34m,\u001b[0m \u001b[0mgradient\u001b[0m\u001b[0;34m,\u001b[0m \u001b[0mretain_graph\u001b[0m\u001b[0;34m,\u001b[0m \u001b[0mcreate_graph\u001b[0m\u001b[0;34m,\u001b[0m \u001b[0minputs\u001b[0m\u001b[0;34m=\u001b[0m\u001b[0minputs\u001b[0m\u001b[0;34m\u001b[0m\u001b[0;34m\u001b[0m\u001b[0m\n\u001b[0m\u001b[1;32m    490\u001b[0m         )\n\u001b[1;32m    491\u001b[0m \u001b[0;34m\u001b[0m\u001b[0m\n",
      "\u001b[0;32m/opt/conda/lib/python3.7/site-packages/torch/autograd/__init__.py\u001b[0m in \u001b[0;36mbackward\u001b[0;34m(tensors, grad_tensors, retain_graph, create_graph, grad_variables, inputs)\u001b[0m\n\u001b[1;32m    197\u001b[0m     Variable._execution_engine.run_backward(  # Calls into the C++ engine to run the backward pass\n\u001b[1;32m    198\u001b[0m         \u001b[0mtensors\u001b[0m\u001b[0;34m,\u001b[0m \u001b[0mgrad_tensors_\u001b[0m\u001b[0;34m,\u001b[0m \u001b[0mretain_graph\u001b[0m\u001b[0;34m,\u001b[0m \u001b[0mcreate_graph\u001b[0m\u001b[0;34m,\u001b[0m \u001b[0minputs\u001b[0m\u001b[0;34m,\u001b[0m\u001b[0;34m\u001b[0m\u001b[0;34m\u001b[0m\u001b[0m\n\u001b[0;32m--> 199\u001b[0;31m         allow_unreachable=True, accumulate_grad=True)  # Calls into the C++ engine to run the backward pass\n\u001b[0m\u001b[1;32m    200\u001b[0m \u001b[0;34m\u001b[0m\u001b[0m\n\u001b[1;32m    201\u001b[0m def grad(\n",
      "\u001b[0;31mRuntimeError\u001b[0m: one of the variables needed for gradient computation has been modified by an inplace operation: [torch.cuda.FloatTensor [1]] is at version 2; expected version 1 instead. Hint: the backtrace further above shows the operation that failed to compute its gradient. The variable in question was changed in there or anywhere later. Good luck!"
     ]
    }
   ],
   "source": [
    "for epoch in tqdm(range(epochs)):\n",
    "    disc_loss, e_loss, g_loss = [], [], []\n",
    "    \n",
    "    e.train()\n",
    "    g.train()\n",
    "    disc.train()\n",
    "    with torch.autograd.set_detect_anomaly(True):\n",
    "        for (X, label) in tqdm(train_dataloader, total = num):        \n",
    "            X = X.to(device)\n",
    "\n",
    "            sup_flag = label[:, 0] != 0\n",
    "            if sup_flag.sum() > 0:\n",
    "                label = label[sup_flag, :].float()\n",
    "            label = label.to(device)\n",
    "\n",
    "            for _ in range(disc_steps):\n",
    "                disc.zero_grad()\n",
    "\n",
    "                z = torch.randn(X.shape[0], latent_dim, device=device)\n",
    "\n",
    "                mu, sigma = e(X)\n",
    "                z_fake = reparameterize(mu, sigma )\n",
    "\n",
    "                label_z = prior(z[:, :num_label])\n",
    "                other_z = z[:, num_label:]\n",
    "                z = torch.cat([label_z, other_z], dim=1)\n",
    "\n",
    "                X_fake = g(z)\n",
    "\n",
    "                e_score = disc(X, z_fake.detach())\n",
    "                g_score = disc(X_fake.detach(), z.detach())\n",
    "\n",
    "                del z_fake\n",
    "                del X_fake\n",
    "\n",
    "                loss_d = F.softplus(g_score).mean() + F.softplus(-e_score).mean()\n",
    "                loss_d.backward()\n",
    "                d_optimizer.step()\n",
    "                disc_loss.append(loss_d.item())\n",
    "\n",
    "            #___________________________________\n",
    "            for _ in range(e_steps):\n",
    "                z = torch.randn(X.size(0), latent_dim, device=device)\n",
    "                mu, sigma = e(X)\n",
    "                z_fake = reparameterize(mu, sigma )\n",
    "\n",
    "                g.zero_grad()\n",
    "                e.zero_grad()\n",
    "                prior.zero_grad()\n",
    "\n",
    "                e_score = disc(X, z_fake)\n",
    "                l_encoder = e_score.mean()\n",
    "\n",
    "                label_z = prior(z[:, :num_label])\n",
    "                other_z = z[:, num_label:]\n",
    "                z = torch.cat([label_z, other_z], dim=1)\n",
    "\n",
    "                X_fake = g(z)\n",
    "                label_z = mu[sup_flag, :num_label]\n",
    "                sup_loss = celoss(label_z, label)\n",
    "\n",
    "                l_encoder = l_encoder + sup_loss * 5\n",
    "                l_encoder.backward()\n",
    "\n",
    "                e_loss.append(l_encoder.item())\n",
    "                e_optimizer.step()\n",
    "                p_optimizer.step()\n",
    "\n",
    "                g_score = disc(X_fake, z)\n",
    "                s_decoder = torch.exp(g_score.detach()).clamp(0.5, 2)\n",
    "                loss_decoder = -(s_decoder * g_score).mean()\n",
    "                g_loss.append(loss_decoder.item())\n",
    "                loss_decoder.backward()\n",
    "                g_optimizer.step()\n",
    "\n",
    "                prior.set_zero_grad()\n",
    "                A_optimizer.step()\n",
    "                p_optimizer.step()\n",
    "        \n",
    "        print(f\"[{epoch+1}/{epochs}] Encoder Loss : {sum(e_loss)/num:>.5f} Gen Loss : {sum(g_loss)/num:>.5f} Disc Loss : {sum(disc_loss)/num:>.5f}\")"
   ]
  },
  {
   "cell_type": "code",
   "execution_count": null,
   "id": "08821502",
   "metadata": {},
   "outputs": [],
   "source": [
    "def plot_image(fake):\n",
    "    with torch.no_grad():\n",
    "        fake = np.transpose(fake.cpu().numpy(), (0, 2, 3, 1))\n",
    "    _,ax = plt.subplots(1, 10, figsize=(24,4))\n",
    "    for i in range(10):\n",
    "        ax[i].imshow(fake[i])\n",
    "    plt.show()"
   ]
  },
  {
   "cell_type": "code",
   "execution_count": null,
   "id": "698b4b7f",
   "metadata": {},
   "outputs": [],
   "source": [
    "for X, label in train_dataloader:\n",
    "    mu, sigma = e(X.to(device))\n",
    "    z = reparameterize(mu, sigma)\n",
    "    label_z = prior(z[:, :num_label])\n",
    "    other_z = z[:, num_label:]\n",
    "    z = torch.cat([label_z, other_z], dim=1)\n",
    "    x_fake = g(z)\n",
    "    x_fake = (x_fake * 0.5) + 0.5\n",
    "    plot_image(x_fake)\n",
    "    print(z[:10,:num_label], label[:10])\n",
    "    break"
   ]
  },
  {
   "cell_type": "code",
   "execution_count": 77,
   "id": "51a7131b",
   "metadata": {},
   "outputs": [
    {
     "name": "stdout",
     "output_type": "stream",
     "text": [
      "tensor([[0., 0., 1., 1., 1., 1.],\n",
      "        [0., 0., 0., 0., 1., 0.],\n",
      "        [0., 0., 0., 0., 0., 0.],\n",
      "        [0., 0., 0., 0., 0., 0.],\n",
      "        [0., 0., 0., 0., 0., 0.],\n",
      "        [0., 0., 0., 0., 0., 0.]], device='cuda:0')\n",
      "tensor([[ 0.0000,  0.0000,  0.0005,  0.0005, -0.0005, -0.0005],\n",
      "        [ 0.0000,  0.0000,  0.0000,  0.0000,  0.0005,  0.0000],\n",
      "        [ 0.0000,  0.0000,  0.0000,  0.0000,  0.0000,  0.0000],\n",
      "        [ 0.0000,  0.0000,  0.0000,  0.0000,  0.0000,  0.0000],\n",
      "        [ 0.0000,  0.0000,  0.0000,  0.0000,  0.0000,  0.0000],\n",
      "        [ 0.0000,  0.0000,  0.0000,  0.0000,  0.0000,  0.0000]])\n"
     ]
    }
   ],
   "source": [
    "print(A)\n",
    "print(prior.A.data.to(device='cpu'))"
   ]
  },
  {
   "cell_type": "code",
   "execution_count": 62,
   "id": "0c581772",
   "metadata": {},
   "outputs": [
    {
     "data": {
      "text/plain": [
       "<AxesSubplot:>"
      ]
     },
     "execution_count": 62,
     "metadata": {},
     "output_type": "execute_result"
    },
    {
     "data": {
      "image/png": "[encoded data removed]",
      "text/plain": [
       "<Figure size 640x480 with 2 Axes>"
      ]
     },
     "metadata": {},
     "output_type": "display_data"
    }
   ],
   "source": [
    "sns.heatmap(prior.A.data.to(device='cpu'),cmap=\"crest\",\n",
    "            square='True', xticklabels = cols, yticklabels = cols)"
   ]
  },
  {
   "cell_type": "code",
   "execution_count": null,
   "id": "57aa1e6d",
   "metadata": {},
   "outputs": [],
   "source": []
  }
 ],
 "metadata": {
  "kernelspec": {
   "display_name": "Python 3",
   "language": "python",
   "name": "python3"
  },
  "language_info": {
   "codemirror_mode": {
    "name": "ipython",
    "version": 3
   },
   "file_extension": ".py",
   "mimetype": "text/x-python",
   "name": "python",
   "nbconvert_exporter": "python",
   "pygments_lexer": "ipython3",
   "version": "3.7.12"
  }
 },
 "nbformat": 4,
 "nbformat_minor": 5
}
