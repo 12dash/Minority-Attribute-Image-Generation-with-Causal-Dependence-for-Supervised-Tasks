{
 "cells": [
  {
   "cell_type": "code",
   "execution_count": 1,
   "id": "ca26e8e0",
   "metadata": {},
   "outputs": [],
   "source": [
    "import pandas as pd\n",
    "from PIL import Image\n",
    "\n",
    "import torch\n",
    "from torch.utils.data import DataLoader, Dataset\n",
    "from torchvision.transforms import ToTensor, Compose, Resize, Normalize, CenterCrop\n",
    "\n",
    "from sklearn.utils.class_weight import compute_class_weight\n",
    "\n",
    "import torch.nn as nn\n",
    "import torch.nn.functional as F\n",
    "from tqdm.notebook import tqdm"
   ]
  },
  {
   "cell_type": "code",
   "execution_count": 2,
   "id": "a8715cfa",
   "metadata": {},
   "outputs": [],
   "source": [
    "class ImageDataset(Dataset):\n",
    "    def __init__(self, root_folder, file_name, transform, attr, label = None, weights = None):\n",
    "        self.transform=transform\n",
    "        self.img_folder=root_folder+'img/img_align_celeba/'\n",
    "        \n",
    "        self.df = pd.read_csv(root_folder+file_name+'.csv').replace(-1,0).reset_index(drop=True)\n",
    "        self.image_names = self.df.pop('image_id')\n",
    "        self.attr = self.df[attr].values\n",
    "        self.label = self.df[label].values\n",
    "        self.weights = weights if weights is not None else None\n",
    "   \n",
    "    def __len__(self):\n",
    "        return len(self.image_names)\n",
    " \n",
    "    def __getitem__(self, index):\n",
    "        image_path = self.img_folder + self.image_names[index]\n",
    "        image=Image.open(image_path)\n",
    "        image=self.transform(image)\n",
    "        label = torch.tensor(self.label[index], dtype=torch.float32)\n",
    "        weight = self.weights[self.label[index]][self.attr[index]] if self.weights is not None else 0\n",
    "        weight = torch.tensor(weight, dtype=torch.float32)\n",
    "        return image, label, weight, self.attr[index]"
   ]
  },
  {
   "cell_type": "code",
   "execution_count": 3,
   "id": "82622c3d",
   "metadata": {},
   "outputs": [],
   "source": [
    "def get_weights(file, label, label_value, attr, classes = [0,1]):\n",
    "    df = pd.read_csv(f'dataset/celebA/{file}.csv').replace(-1,0)\n",
    "    df = df[df[label] == label_value].reset_index(drop=True)\n",
    "    display(df[attr].value_counts())\n",
    "    weights = compute_class_weight(class_weight = 'balanced', y = df[attr], classes = classes)\n",
    "    weights = {classname : weights[i] for i, classname in enumerate(classes)}\n",
    "    return weights"
   ]
  },
  {
   "cell_type": "code",
   "execution_count": 4,
   "id": "7d9d30c7",
   "metadata": {},
   "outputs": [],
   "source": [
    "device = \"cuda\" if torch.cuda.is_available() else \"mps\" if torch.backends.mps.is_available() else \"cpu\""
   ]
  },
  {
   "cell_type": "code",
   "execution_count": 5,
   "id": "dbbb9561",
   "metadata": {},
   "outputs": [],
   "source": [
    "root_folder = 'dataset/celebA/'\n",
    "img_dim = 64\n",
    "batch_size = 16\n",
    "file_name = 'down_train_downsaple'\n",
    "label = 'Smiling'\n",
    "attr = 'Male'"
   ]
  },
  {
   "cell_type": "code",
   "execution_count": 6,
   "id": "06400ac7",
   "metadata": {},
   "outputs": [
    {
     "data": {
      "text/plain": [
       "1    8002\n",
       "0     865\n",
       "Name: Male, dtype: int64"
      ]
     },
     "metadata": {},
     "output_type": "display_data"
    },
    {
     "data": {
      "text/plain": [
       "0    10284\n",
       "1      548\n",
       "Name: Male, dtype: int64"
      ]
     },
     "metadata": {},
     "output_type": "display_data"
    },
    {
     "data": {
      "text/plain": [
       "{0: {0: 5.125433526011561, 1: 0.5540489877530618},\n",
       " 1: {0: 0.5266433294437962, 1: 9.883211678832117}}"
      ]
     },
     "execution_count": 6,
     "metadata": {},
     "output_type": "execute_result"
    }
   ],
   "source": [
    "weights = {0:{}, 1:{}}\n",
    "weights[0] = get_weights(file_name, label, 0, attr)\n",
    "weights[1] = get_weights(file_name, label, 1, attr)\n",
    "weights"
   ]
  },
  {
   "cell_type": "code",
   "execution_count": 7,
   "id": "cb395b46",
   "metadata": {},
   "outputs": [],
   "source": [
    "transform = Compose([CenterCrop(128),\n",
    "                     Resize((img_dim, img_dim)),\n",
    "                     ToTensor(),\n",
    "                     Normalize((0.5, 0.5, 0.5), (0.5, 0.5, 0.5))])\n",
    "data = ImageDataset(root_folder=root_folder, file_name = file_name, transform=transform,\n",
    "                    attr = attr, label = label, weights = weights)\n",
    "train_dataloader = DataLoader(data, batch_size = batch_size,shuffle = True)\n",
    "testdata = ImageDataset(root_folder=root_folder, file_name = 'down_test', transform=transform,\n",
    "                    attr = attr, label = label)\n",
    "test_dataloader = DataLoader(testdata, batch_size = batch_size,shuffle = True)"
   ]
  },
  {
   "cell_type": "code",
   "execution_count": 8,
   "id": "414a44b3",
   "metadata": {},
   "outputs": [
    {
     "name": "stdout",
     "output_type": "stream",
     "text": [
      "Number of samples :  19699\n"
     ]
    }
   ],
   "source": [
    "print(\"Number of samples : \", len(train_dataloader.dataset))"
   ]
  },
  {
   "cell_type": "code",
   "execution_count": 9,
   "id": "c492c31e",
   "metadata": {},
   "outputs": [],
   "source": [
    "class AttributeWeight(nn.Module):\n",
    "    def __init__(self):\n",
    "        super().__init__()\n",
    "        self.conv1 = nn.Conv2d(3, 64, 5)\n",
    "        self.pool = nn.MaxPool2d(2, 2)\n",
    "        self.conv2 = nn.Conv2d(64, 32, 5)\n",
    "        self.pool2 = nn.MaxPool2d(2, 2)\n",
    "        self.conv3 = nn.Conv2d(32, 16, 5)\n",
    "        self.fc1 = nn.Linear(5408, 120)\n",
    "        self.fc2 = nn.Linear(120, 84)\n",
    "        self.fc3 = nn.Linear(84, 1)\n",
    "\n",
    "    def forward(self, x):\n",
    "        x = self.pool(F.relu(self.conv1(x)))\n",
    "        x = self.pool(F.relu(self.conv2(x)))\n",
    "        x = torch.flatten(x, 1) \n",
    "        x = F.relu(self.fc1(x))\n",
    "        x = F.relu(self.fc2(x))\n",
    "        x = F.sigmoid(self.fc3(x))\n",
    "        return x"
   ]
  },
  {
   "cell_type": "code",
   "execution_count": 10,
   "id": "c1fb4120",
   "metadata": {},
   "outputs": [],
   "source": [
    "def element_weighted_loss(y_hat, y, weights):\n",
    "    criterion = nn.BCELoss(reduction='none')\n",
    "    loss = criterion(y_hat, y)\n",
    "    loss = loss * weights\n",
    "    return loss.sum() / weights.sum()\n",
    "    #return loss.mean()"
   ]
  },
  {
   "cell_type": "code",
   "execution_count": 11,
   "id": "ddf31a13",
   "metadata": {},
   "outputs": [],
   "source": [
    "model = AttributeWeight().to(device)"
   ]
  },
  {
   "cell_type": "code",
   "execution_count": 12,
   "id": "2e00ea4e",
   "metadata": {},
   "outputs": [],
   "source": [
    "import torch.optim as optim\n",
    "optimizer = optim.SGD(model.parameters(), lr=0.001, momentum=0.9)"
   ]
  },
  {
   "cell_type": "code",
   "execution_count": 13,
   "id": "bd13d89c",
   "metadata": {},
   "outputs": [],
   "source": [
    "num = len(train_dataloader.dataset)//batch_size + 1"
   ]
  },
  {
   "cell_type": "code",
   "execution_count": 14,
   "id": "76516ae4",
   "metadata": {},
   "outputs": [
    {
     "data": {
      "application/vnd.jupyter.widget-view+json": {
       "model_id": "99f8ac9432954d91bb66981406ba2adf",
       "version_major": 2,
       "version_minor": 0
      },
      "text/plain": [
       "  0%|          | 0/1232 [00:00<?, ?it/s]"
      ]
     },
     "metadata": {},
     "output_type": "display_data"
    },
    {
     "name": "stdout",
     "output_type": "stream",
     "text": [
      "[1] loss: 3.685\n"
     ]
    },
    {
     "data": {
      "application/vnd.jupyter.widget-view+json": {
       "model_id": "69004d7a7cf34c148180797583b9f8c4",
       "version_major": 2,
       "version_minor": 0
      },
      "text/plain": [
       "  0%|          | 0/1232 [00:00<?, ?it/s]"
      ]
     },
     "metadata": {},
     "output_type": "display_data"
    },
    {
     "name": "stdout",
     "output_type": "stream",
     "text": [
      "[2] loss: 2.232\n"
     ]
    },
    {
     "data": {
      "application/vnd.jupyter.widget-view+json": {
       "model_id": "68854a8d05c644e6a23a286844a33355",
       "version_major": 2,
       "version_minor": 0
      },
      "text/plain": [
       "  0%|          | 0/1232 [00:00<?, ?it/s]"
      ]
     },
     "metadata": {},
     "output_type": "display_data"
    },
    {
     "name": "stdout",
     "output_type": "stream",
     "text": [
      "[3] loss: 1.986\n"
     ]
    },
    {
     "data": {
      "application/vnd.jupyter.widget-view+json": {
       "model_id": "5f8fb6ae39b241548b627ed9ba5b73b3",
       "version_major": 2,
       "version_minor": 0
      },
      "text/plain": [
       "  0%|          | 0/1232 [00:00<?, ?it/s]"
      ]
     },
     "metadata": {},
     "output_type": "display_data"
    },
    {
     "name": "stdout",
     "output_type": "stream",
     "text": [
      "[4] loss: 1.751\n"
     ]
    },
    {
     "data": {
      "application/vnd.jupyter.widget-view+json": {
       "model_id": "55e8e5888f764578842af6a7bb5214c6",
       "version_major": 2,
       "version_minor": 0
      },
      "text/plain": [
       "  0%|          | 0/1232 [00:00<?, ?it/s]"
      ]
     },
     "metadata": {},
     "output_type": "display_data"
    },
    {
     "name": "stdout",
     "output_type": "stream",
     "text": [
      "[5] loss: 1.553\n"
     ]
    },
    {
     "data": {
      "application/vnd.jupyter.widget-view+json": {
       "model_id": "4084054b37344ba29e035ac5ec34a562",
       "version_major": 2,
       "version_minor": 0
      },
      "text/plain": [
       "  0%|          | 0/1232 [00:00<?, ?it/s]"
      ]
     },
     "metadata": {},
     "output_type": "display_data"
    },
    {
     "name": "stdout",
     "output_type": "stream",
     "text": [
      "[6] loss: 1.454\n"
     ]
    },
    {
     "data": {
      "application/vnd.jupyter.widget-view+json": {
       "model_id": "1107816506404076a89761a816b1ce4f",
       "version_major": 2,
       "version_minor": 0
      },
      "text/plain": [
       "  0%|          | 0/1232 [00:00<?, ?it/s]"
      ]
     },
     "metadata": {},
     "output_type": "display_data"
    },
    {
     "name": "stdout",
     "output_type": "stream",
     "text": [
      "[7] loss: 1.320\n"
     ]
    },
    {
     "data": {
      "application/vnd.jupyter.widget-view+json": {
       "model_id": "0090f053c8c442b1b383ecfa156cd183",
       "version_major": 2,
       "version_minor": 0
      },
      "text/plain": [
       "  0%|          | 0/1232 [00:00<?, ?it/s]"
      ]
     },
     "metadata": {},
     "output_type": "display_data"
    },
    {
     "name": "stdout",
     "output_type": "stream",
     "text": [
      "[8] loss: 1.144\n"
     ]
    },
    {
     "data": {
      "application/vnd.jupyter.widget-view+json": {
       "model_id": "0f36c467255743fb80b2f6e358dfc998",
       "version_major": 2,
       "version_minor": 0
      },
      "text/plain": [
       "  0%|          | 0/1232 [00:00<?, ?it/s]"
      ]
     },
     "metadata": {},
     "output_type": "display_data"
    },
    {
     "name": "stdout",
     "output_type": "stream",
     "text": [
      "[9] loss: 0.981\n"
     ]
    },
    {
     "data": {
      "application/vnd.jupyter.widget-view+json": {
       "model_id": "a9445890a96645f6819cf1b496076820",
       "version_major": 2,
       "version_minor": 0
      },
      "text/plain": [
       "  0%|          | 0/1232 [00:00<?, ?it/s]"
      ]
     },
     "metadata": {},
     "output_type": "display_data"
    },
    {
     "name": "stdout",
     "output_type": "stream",
     "text": [
      "[10] loss: 0.889\n"
     ]
    },
    {
     "data": {
      "application/vnd.jupyter.widget-view+json": {
       "model_id": "05c82d46f23d4b508c084834d89d2391",
       "version_major": 2,
       "version_minor": 0
      },
      "text/plain": [
       "  0%|          | 0/1232 [00:00<?, ?it/s]"
      ]
     },
     "metadata": {},
     "output_type": "display_data"
    },
    {
     "name": "stdout",
     "output_type": "stream",
     "text": [
      "[11] loss: 0.786\n"
     ]
    },
    {
     "data": {
      "application/vnd.jupyter.widget-view+json": {
       "model_id": "1e31a9856b2946ce96f134a3ef556b9c",
       "version_major": 2,
       "version_minor": 0
      },
      "text/plain": [
       "  0%|          | 0/1232 [00:00<?, ?it/s]"
      ]
     },
     "metadata": {},
     "output_type": "display_data"
    },
    {
     "name": "stdout",
     "output_type": "stream",
     "text": [
      "[12] loss: 0.609\n"
     ]
    },
    {
     "data": {
      "application/vnd.jupyter.widget-view+json": {
       "model_id": "b3ab774747f54e018954d5a9d10b232f",
       "version_major": 2,
       "version_minor": 0
      },
      "text/plain": [
       "  0%|          | 0/1232 [00:00<?, ?it/s]"
      ]
     },
     "metadata": {},
     "output_type": "display_data"
    },
    {
     "name": "stdout",
     "output_type": "stream",
     "text": [
      "[13] loss: 0.483\n"
     ]
    },
    {
     "data": {
      "application/vnd.jupyter.widget-view+json": {
       "model_id": "1f3172cf1a9345c98be088c525153501",
       "version_major": 2,
       "version_minor": 0
      },
      "text/plain": [
       "  0%|          | 0/1232 [00:00<?, ?it/s]"
      ]
     },
     "metadata": {},
     "output_type": "display_data"
    },
    {
     "name": "stdout",
     "output_type": "stream",
     "text": [
      "[14] loss: 0.497\n"
     ]
    },
    {
     "data": {
      "application/vnd.jupyter.widget-view+json": {
       "model_id": "07309f71f65b4c079b03510cf1d010a3",
       "version_major": 2,
       "version_minor": 0
      },
      "text/plain": [
       "  0%|          | 0/1232 [00:00<?, ?it/s]"
      ]
     },
     "metadata": {},
     "output_type": "display_data"
    },
    {
     "name": "stdout",
     "output_type": "stream",
     "text": [
      "[15] loss: 0.334\n"
     ]
    },
    {
     "data": {
      "application/vnd.jupyter.widget-view+json": {
       "model_id": "58ce521e47b9446ab7735874a3d1e607",
       "version_major": 2,
       "version_minor": 0
      },
      "text/plain": [
       "  0%|          | 0/1232 [00:00<?, ?it/s]"
      ]
     },
     "metadata": {},
     "output_type": "display_data"
    },
    {
     "name": "stdout",
     "output_type": "stream",
     "text": [
      "[16] loss: 0.341\n"
     ]
    },
    {
     "data": {
      "application/vnd.jupyter.widget-view+json": {
       "model_id": "dd594558b9274f2d980a8db3487a17f5",
       "version_major": 2,
       "version_minor": 0
      },
      "text/plain": [
       "  0%|          | 0/1232 [00:00<?, ?it/s]"
      ]
     },
     "metadata": {},
     "output_type": "display_data"
    },
    {
     "name": "stdout",
     "output_type": "stream",
     "text": [
      "[17] loss: 0.333\n"
     ]
    },
    {
     "data": {
      "application/vnd.jupyter.widget-view+json": {
       "model_id": "2861ad313f0146309ffe4179e7aa46d0",
       "version_major": 2,
       "version_minor": 0
      },
      "text/plain": [
       "  0%|          | 0/1232 [00:00<?, ?it/s]"
      ]
     },
     "metadata": {},
     "output_type": "display_data"
    },
    {
     "name": "stdout",
     "output_type": "stream",
     "text": [
      "[18] loss: 0.262\n"
     ]
    },
    {
     "data": {
      "application/vnd.jupyter.widget-view+json": {
       "model_id": "3f09493b5f3540bd933f0ae974445f83",
       "version_major": 2,
       "version_minor": 0
      },
      "text/plain": [
       "  0%|          | 0/1232 [00:00<?, ?it/s]"
      ]
     },
     "metadata": {},
     "output_type": "display_data"
    },
    {
     "name": "stdout",
     "output_type": "stream",
     "text": [
      "[19] loss: 0.197\n"
     ]
    },
    {
     "data": {
      "application/vnd.jupyter.widget-view+json": {
       "model_id": "276157c7a590431b8ef0ff9fb15cc69a",
       "version_major": 2,
       "version_minor": 0
      },
      "text/plain": [
       "  0%|          | 0/1232 [00:00<?, ?it/s]"
      ]
     },
     "metadata": {},
     "output_type": "display_data"
    },
    {
     "name": "stdout",
     "output_type": "stream",
     "text": [
      "[20] loss: 0.225\n",
      "Finished Training\n"
     ]
    }
   ],
   "source": [
    "for epoch in range(20):  \n",
    "    running_loss = 0.0\n",
    "    for i, data in tqdm(enumerate(train_dataloader), total = num):\n",
    "        inputs, labels, weights, attr = data\n",
    "        inputs, labels, weights, attr = inputs.to(device), labels.to(device), weights.to(device), attr.to(device)\n",
    "        optimizer.zero_grad()\n",
    "        outputs = model(inputs)\n",
    "        loss = element_weighted_loss(outputs, labels.unsqueeze(1), weights)\n",
    "        loss.backward()\n",
    "        optimizer.step()\n",
    "        running_loss += loss.item()\n",
    "    print(f'[{epoch + 1}] loss: {running_loss / num:.3f}')\n",
    "          \n",
    "print('Finished Training')"
   ]
  },
  {
   "cell_type": "code",
   "execution_count": 15,
   "id": "d0ebcf68",
   "metadata": {},
   "outputs": [
    {
     "data": {
      "application/vnd.jupyter.widget-view+json": {
       "model_id": "e39cd44da55149a38b6bfe5f40ee0144",
       "version_major": 2,
       "version_minor": 0
      },
      "text/plain": [
       "  0%|          | 0/253 [00:00<?, ?it/s]"
      ]
     },
     "metadata": {},
     "output_type": "display_data"
    }
   ],
   "source": [
    "#class:{attr:}\n",
    "correct_pred = {0:{0:0,1:0},1:{0:0,1:0}}\n",
    "total_pred = {0:{0:0,1:0},1:{0:0,1:0}}\n",
    "\n",
    "with torch.no_grad():\n",
    "    for data in tqdm(test_dataloader, total=len(test_dataloader.dataset)//batch_size):\n",
    "        inputs, labels, weights, attrs = data\n",
    "        inputs, labels, weights, attrs = inputs.to(device), labels.to(device), weights.to(device), attrs.to(device)\n",
    "        outputs = model(inputs)\n",
    "        predictions = torch.round(outputs)\n",
    "        for label, prediction, attr in zip(labels, predictions, attrs):\n",
    "            if label == prediction:\n",
    "                correct_pred[label.item()][attr.item()] += 1\n",
    "            total_pred[label.item()][attr.item()] += 1"
   ]
  },
  {
   "cell_type": "code",
   "execution_count": 16,
   "id": "95fad1e7",
   "metadata": {},
   "outputs": [
    {
     "name": "stdout",
     "output_type": "stream",
     "text": [
      "Accuracy for class: 0 , attr: 0: 72.7433628318584 total: 1130  \n",
      "Accuracy for class: 0 , attr: 1: 96.54178674351586 total: 1041  \n",
      "Accuracy for class: 1 , attr: 0: 97.53694581280789 total: 1218  \n",
      "Accuracy for class: 1 , attr: 1: 68.92911010558069 total: 663  \n"
     ]
    }
   ],
   "source": [
    "for classname, correct_counts in correct_pred.items():\n",
    "    for attr_name, correct_count in correct_counts.items():\n",
    "        accuracy = 100 * float(correct_count) / total_pred[classname][attr_name]\n",
    "        print(f'Accuracy for class: {classname} , attr: {attr_name}: {accuracy} total: {total_pred[classname][attr_name]}  ')"
   ]
  },
  {
   "cell_type": "markdown",
   "id": "fd7ce369",
   "metadata": {},
   "source": [
    "## Without weights\n",
    "\n",
    "Accuracy for class: 0 , attr: 0: 66.46017699115045 total: 1130  \n",
    "Accuracy for class: 0 , attr: 1: 96.06147934678194 total: 1041  \n",
    "Accuracy for class: 1 , attr: 0: 98.0295566502463 total: 1218  \n",
    "Accuracy for class: 1 , attr: 1: 75.41478129713424 total: 663  "
   ]
  },
  {
   "cell_type": "markdown",
   "id": "1e974a98",
   "metadata": {},
   "source": [
    "## With Weights\n",
    "Accuracy for class: 0 , attr: 0: 72.7433628318584 total: 1130  \n",
    "Accuracy for class: 0 , attr: 1: 96.54178674351586 total: 1041  \n",
    "Accuracy for class: 1 , attr: 0: 97.53694581280789 total: 1218  \n",
    "Accuracy for class: 1 , attr: 1: 68.92911010558069 total: 663  "
   ]
  },
  {
   "cell_type": "code",
   "execution_count": null,
   "id": "35cdef27",
   "metadata": {},
   "outputs": [],
   "source": []
  }
 ],
 "metadata": {
  "kernelspec": {
   "display_name": "Python 3 (ipykernel)",
   "language": "python",
   "name": "python3"
  },
  "language_info": {
   "codemirror_mode": {
    "name": "ipython",
    "version": 3
   },
   "file_extension": ".py",
   "mimetype": "text/x-python",
   "name": "python",
   "nbconvert_exporter": "python",
   "pygments_lexer": "ipython3",
   "version": "3.10.10"
  }
 },
 "nbformat": 4,
 "nbformat_minor": 5
}
