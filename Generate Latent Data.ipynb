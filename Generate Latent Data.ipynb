{
 "cells": [
  {
   "cell_type": "code",
   "execution_count": 1,
   "id": "80c6f997",
   "metadata": {},
   "outputs": [],
   "source": [
    "import os\n",
    "import pandas as pd\n",
    "from PIL import Image\n",
    "from resnet import *\n",
    "\n",
    "import torch\n",
    "from torch.utils.data import DataLoader, Dataset\n",
    "from torchvision.transforms import ToTensor, Compose, Resize, Normalize, CenterCrop\n",
    "import torch.nn as nn\n",
    "import torch.optim as optim\n",
    "import torch.nn.functional as F\n",
    "from tqdm.notebook import tqdm\n",
    "\n",
    "\n",
    "from bgm import *\n",
    "from sagan import *\n",
    "from causal_model import *\n",
    "from load_data import *\n",
    "\n",
    "from sklearn.utils.class_weight import compute_class_weight\n",
    "from sklearn.metrics import classification_report"
   ]
  },
  {
   "cell_type": "code",
   "execution_count": 2,
   "id": "a7b23ae1",
   "metadata": {},
   "outputs": [],
   "source": [
    "class ImageDatasetDf(Dataset):\n",
    "    def __init__(self, root_folder, df, label = None, transform=None, cols = None):\n",
    "        self.transform=transform\n",
    "        self.img_folder=root_folder+'img/img_align_celeba/'\n",
    "        self.df = df.copy()\n",
    "        self.attr = df.copy()\n",
    "        self.image_names = self.attr.pop('image_id')\n",
    "        if cols is not None:\n",
    "            self.attr = self.attr[cols]    \n",
    "        self.label = self.df[label].values\n",
    "        self.attr = self.attr.values\n",
    "\n",
    "    def __len__(self):\n",
    "        return len(self.image_names)\n",
    " \n",
    "    def __getitem__(self, index):\n",
    "        image_path = self.img_folder + self.image_names[index]\n",
    "        image=Image.open(image_path)\n",
    "        image=self.transform(image)\n",
    "        return image, self.label[index], self.attr[index]\n",
    "\n",
    "def get_dataloader_from_df(root_folder, df, label = None, img_dim=64, batch_size=32, cols = None):\n",
    "    transform = Compose([Resize((img_dim, img_dim)),\n",
    "                        ToTensor(),\n",
    "                        Normalize((0.5, 0.5, 0.5), (0.5, 0.5, 0.5))])\n",
    "    data = ImageDatasetDf(root_folder=root_folder, df = df, label = label, transform=transform, cols = cols)\n",
    "    dataloader = DataLoader(data, batch_size = batch_size, shuffle = True)\n",
    "    return dataloader"
   ]
  },
  {
   "cell_type": "code",
   "execution_count": 3,
   "id": "2522005c",
   "metadata": {},
   "outputs": [],
   "source": [
    "class ImageDataset(Dataset):\n",
    "    def __init__(self, root_folder, file_name, transform, attr, img_folder = None, label = None):\n",
    "        self.transform=transform\n",
    "        self.img_folder=root_folder+img_folder\n",
    "        \n",
    "        self.df = pd.read_csv(root_folder+file_name+'.csv').replace(-1,0).reset_index(drop=True)\n",
    "        self.image_names = self.df.pop('image_id')\n",
    "        self.attr = self.df[attr].values\n",
    "        self.label = self.df[label].values\n",
    "   \n",
    "    def __len__(self):\n",
    "        return len(self.image_names)\n",
    " \n",
    "    def __getitem__(self, index):\n",
    "        image_path = self.img_folder + self.image_names[index]\n",
    "        image=Image.open(image_path)\n",
    "        image=self.transform(image)\n",
    "        label = torch.tensor(self.label[index], dtype=torch.float32)\n",
    "        return image, label, self.attr[index]"
   ]
  },
  {
   "cell_type": "code",
   "execution_count": 4,
   "id": "47d51ea7",
   "metadata": {},
   "outputs": [],
   "source": [
    "device = \"cuda\" if torch.cuda.is_available() else \"mps\" if torch.backends.mps.is_available() else \"cpu\""
   ]
  },
  {
   "cell_type": "code",
   "execution_count": 5,
   "id": "016ed495",
   "metadata": {},
   "outputs": [],
   "source": [
    "img_dim = 64\n",
    "batch_size = 128\n",
    "\n",
    "root_folder = 'dataset/celebA/'\n",
    "img_folder = 'img/img_align_celebA/'\n",
    "file_name = 'dear_train_downsample_smile'\n",
    "\n",
    "label = 'Smiling'\n",
    "attr = 'Male'\n",
    "\n",
    "apply_weight = False"
   ]
  },
  {
   "cell_type": "code",
   "execution_count": 6,
   "id": "9cbcf255",
   "metadata": {},
   "outputs": [],
   "source": [
    "causal_diagram = 'smiling'\n",
    "\n",
    "if causal_diagram == 'smiling':\n",
    "    #saved_folder = 'saved_model_downsample_smile_reduce_latent_dim'\n",
    "    saved_folder = 'saved_model'\n",
    "    #saved_folder = 'saved_model_downsample_smile_increase_latent_dim'\n",
    "    cols = ['Smiling', 'Male', 'High_Cheekbones', 'Mouth_Slightly_Open', 'Narrow_Eyes', 'Chubby']\n",
    "    num_label = len(cols)\n",
    "    A = torch.zeros((num_label, num_label))\n",
    "    A[0, 2:6] = 1\n",
    "    A[1, 4] = 1"
   ]
  },
  {
   "cell_type": "code",
   "execution_count": 7,
   "id": "49cf2163",
   "metadata": {},
   "outputs": [],
   "source": [
    "in_channels = 3\n",
    "fc_size = 2048\n",
    "\n",
    "#latent_dim = 10\n",
    "latent_dim = 100\n",
    "#latent_dim = 150\n",
    "\n",
    "\n",
    "g_conv_dim = 32\n",
    "enc_dist='gaussian'\n",
    "enc_arch='resnet'\n",
    "enc_fc_size=2048\n",
    "enc_noise_dim=128\n",
    "dec_dist = 'implicit'\n",
    "prior = 'linscm'"
   ]
  },
  {
   "cell_type": "code",
   "execution_count": 8,
   "id": "8fd5aaa0",
   "metadata": {},
   "outputs": [
    {
     "name": "stdout",
     "output_type": "stream",
     "text": [
      "130\n"
     ]
    }
   ],
   "source": [
    "model = BGM(latent_dim, g_conv_dim, img_dim,\n",
    "                enc_dist, enc_arch, enc_fc_size, enc_noise_dim, dec_dist,\n",
    "                prior, num_label, A)\n",
    "model = nn.DataParallel(model)\n",
    "checkpoint = torch.load(f'{saved_folder}/bgm', map_location='cpu')\n",
    "print(checkpoint['epoch'])\n",
    "model.load_state_dict(checkpoint['model_state_dict'])\n",
    "model = model.module.to(device)"
   ]
  },
  {
   "cell_type": "code",
   "execution_count": 9,
   "id": "1273f33a",
   "metadata": {},
   "outputs": [],
   "source": [
    "transform = Compose([CenterCrop(128),\n",
    "                     Resize((img_dim, img_dim)),\n",
    "                     ToTensor(),\n",
    "                     Normalize((0.5, 0.5, 0.5), (0.5, 0.5, 0.5))])\n",
    "data = ImageDataset(root_folder=root_folder, file_name = file_name, transform=transform,\n",
    "                    img_folder = img_folder,\n",
    "                    attr = attr, label = label)\n",
    "train_dataloader = DataLoader(data, batch_size = batch_size,shuffle = True)\n",
    "testdata = ImageDataset(root_folder='dataset/celebA/', file_name = 'dear_test', transform=transform,\n",
    "                    img_folder = 'img/img_align_celebA/',\n",
    "                    attr = attr, label = label)\n",
    "test_dataloader = DataLoader(testdata, batch_size = batch_size,shuffle = True)"
   ]
  },
  {
   "cell_type": "code",
   "execution_count": 10,
   "id": "0e0d07e1",
   "metadata": {},
   "outputs": [],
   "source": [
    "dest_dir = 'synthetic_latent_dataset'\n",
    "#dest_dir = 'latent_dataset'\n",
    "train_dir = f'{dest_dir}/train/'\n",
    "test_dir = f'{dest_dir}/test/'\n",
    "\n",
    "make_dir = lambda path : os.makedirs(path) if not os.path.exists(path) else 0\n",
    "make_dir(dest_dir)\n",
    "make_dir(train_dir)\n",
    "make_dir(test_dir)"
   ]
  },
  {
   "cell_type": "code",
   "execution_count": 11,
   "id": "241d3969",
   "metadata": {},
   "outputs": [],
   "source": [
    "def save_numpy(z, y, attr, num_id, d):\n",
    "    for idx in range(len(z)): \n",
    "        torch.save((z[idx].cpu(), y[idx].cpu(), attr[idx].cpu()), f'{d}{num_id}.pt') \n",
    "        num_id = num_id + 1\n",
    "    return num_id"
   ]
  },
  {
   "cell_type": "code",
   "execution_count": 12,
   "id": "7fe13382",
   "metadata": {},
   "outputs": [],
   "source": [
    "y_name, attr_name = 'Smiling', 'Male'\n",
    "final_cols = [y_name, attr_name]"
   ]
  },
  {
   "cell_type": "code",
   "execution_count": 13,
   "id": "f541dd2a",
   "metadata": {},
   "outputs": [
    {
     "data": {
      "application/vnd.jupyter.widget-view+json": {
       "model_id": "02f7e8e6ccff4eb4b4bc8f9dec4b76d1",
       "version_major": 2,
       "version_minor": 0
      },
      "text/plain": [
       "  0%|          | 0/854 [00:00<?, ?it/s]"
      ]
     },
     "metadata": {},
     "output_type": "display_data"
    }
   ],
   "source": [
    "num_id = 0\n",
    "for x, y, attr in tqdm(train_dataloader):\n",
    "    x = x.to(device)\n",
    "    eps = model.encode(x)\n",
    "    z_label = eps[:, :num_label]\n",
    "    other_label = eps[:, num_label:]\n",
    "    z_label = model.prior(z_label)\n",
    "    z = torch.cat([z_label, other_label], dim = 1)\n",
    "    num_id = save_numpy(z, y, attr, num_id, train_dir)"
   ]
  },
  {
   "cell_type": "code",
   "execution_count": 14,
   "id": "a6695636",
   "metadata": {},
   "outputs": [
    {
     "data": {
      "application/vnd.jupyter.widget-view+json": {
       "model_id": "b0e4eb509b9147b78aeab84f767fe4a2",
       "version_major": 2,
       "version_minor": 0
      },
      "text/plain": [
       "  0%|          | 0/317 [00:00<?, ?it/s]"
      ]
     },
     "metadata": {},
     "output_type": "display_data"
    },
    {
     "data": {
      "application/vnd.jupyter.widget-view+json": {
       "model_id": "dad0afcd68294de7a1f29a450bc7ece4",
       "version_major": 2,
       "version_minor": 0
      },
      "text/plain": [
       "  0%|          | 0/399 [00:00<?, ?it/s]"
      ]
     },
     "metadata": {},
     "output_type": "display_data"
    }
   ],
   "source": [
    "if 'synthetic' in dest_dir:\n",
    "    file_name = \"dear_train_downsample_smile\"\n",
    "    df = pd.read_csv(f\"dataset/celebA/{file_name}.csv\").replace(-1,0)\n",
    "    idx_attr = cols.index(attr_name)\n",
    "    idx_y = cols.index(y_name)\n",
    "\n",
    "    df_temp = df[(df['Smiling']==0) & (df['Male']==1)].reset_index(drop=True)\n",
    "    dc1_loader = get_dataloader_from_df(root_folder, df_temp, label=y_name, batch_size = batch_size, cols = attr_name)\n",
    "\n",
    "    attr_new , y_new = 0, 0\n",
    "    with torch.no_grad():\n",
    "        for ii, (x, y, attr) in enumerate(tqdm(dc1_loader)):\n",
    "            x = x.to(device)\n",
    "            eps = model.encode(x)\n",
    "            eps[:, idx_attr] = -2 if attr_new == 0 else 2\n",
    "            eps[:, idx_y] = -2 if y_new == 0 else 2\n",
    "            label_z = model.prior(eps[:, :num_label])\n",
    "            other_z = eps[:, num_label:]\n",
    "            z = torch.cat([label_z, other_z], dim=1)\n",
    "            num_id = save_numpy(z, y, attr, num_id, train_dir)\n",
    "            if ii > 200:\n",
    "                break\n",
    "\n",
    "    df_temp = df[(df['Smiling']==1) & (df['Male']==0)].reset_index(drop=True)        \n",
    "    dc2_loader = get_dataloader_from_df(root_folder, df_temp, label=y_name,batch_size = batch_size, cols=attr_name)\n",
    "    attr_new , y_new = 1, 1\n",
    "    with torch.no_grad():\n",
    "        for ii, (x, y, attr) in enumerate(tqdm(dc2_loader)):\n",
    "            x = x.to(device)\n",
    "            eps = model.encode(x)\n",
    "            eps[:, idx_attr] = -2 if attr_new == 0 else 2\n",
    "            eps[:, idx_y] = -2 if y_new == 0 else 2\n",
    "            label_z = model.prior(eps[:, :num_label])\n",
    "            other_z = eps[:, num_label:]\n",
    "            z = torch.cat([label_z, other_z], dim=1)\n",
    "            num_id = save_numpy(z, y, attr, num_id, train_dir)\n",
    "            if ii > 200:\n",
    "                break"
   ]
  },
  {
   "cell_type": "code",
   "execution_count": 15,
   "id": "64d22021",
   "metadata": {},
   "outputs": [
    {
     "data": {
      "application/vnd.jupyter.widget-view+json": {
       "model_id": "c89c5673e7b044ebbce8feb1ed7cef3a",
       "version_major": 2,
       "version_minor": 0
      },
      "text/plain": [
       "  0%|          | 0/159 [00:00<?, ?it/s]"
      ]
     },
     "metadata": {},
     "output_type": "display_data"
    }
   ],
   "source": [
    "num_id = 0\n",
    "for x, y, attr in tqdm(test_dataloader):\n",
    "    x = x.to(device)\n",
    "    eps = model.encode(x)\n",
    "    z_label = eps[:, :num_label]\n",
    "    other_label = eps[:, num_label:]\n",
    "    z_label = model.prior(z_label)\n",
    "    z = torch.cat([z_label, other_label], dim = 1)\n",
    "    num_id = save_numpy(z,y,attr, num_id, test_dir)"
   ]
  },
  {
   "cell_type": "code",
   "execution_count": null,
   "id": "0b8cb82f",
   "metadata": {},
   "outputs": [],
   "source": []
  }
 ],
 "metadata": {
  "kernelspec": {
   "display_name": "Python 3 (ipykernel)",
   "language": "python",
   "name": "python3"
  },
  "language_info": {
   "codemirror_mode": {
    "name": "ipython",
    "version": 3
   },
   "file_extension": ".py",
   "mimetype": "text/x-python",
   "name": "python",
   "nbconvert_exporter": "python",
   "pygments_lexer": "ipython3",
   "version": "3.10.10"
  }
 },
 "nbformat": 4,
 "nbformat_minor": 5
}
