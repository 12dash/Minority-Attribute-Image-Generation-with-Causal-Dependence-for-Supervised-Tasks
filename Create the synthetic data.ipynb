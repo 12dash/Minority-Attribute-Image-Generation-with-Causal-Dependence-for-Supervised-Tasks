{
 "cells": [
  {
   "cell_type": "code",
   "execution_count": 1,
   "id": "76520def",
   "metadata": {},
   "outputs": [],
   "source": [
    "import sys\n",
    "import os\n",
    "import random\n",
    "import seaborn as sns\n",
    "import torch\n",
    "import numpy as np\n",
    "import matplotlib.pyplot as plt\n",
    "import seaborn as sns\n",
    "import pandas as pd\n",
    "\n",
    "from bgm import *\n",
    "from sagan import *\n",
    "from causal_model import *\n",
    "from load_data import *"
   ]
  },
  {
   "cell_type": "code",
   "execution_count": 2,
   "id": "af411cda",
   "metadata": {},
   "outputs": [],
   "source": [
    "device = \"cuda\" if torch.cuda.is_available() else \"mps\" if torch.backends.mps.is_available() else \"cpu\""
   ]
  },
  {
   "cell_type": "code",
   "execution_count": 3,
   "id": "bc1ed75e",
   "metadata": {},
   "outputs": [],
   "source": [
    "root_folder = 'dataset/celebA/'\n",
    "img_dim = 64\n",
    "\n",
    "cols = ['Smiling', 'Male', 'High_Cheekbones', 'Mouth_Slightly_Open', 'Narrow_Eyes', 'Chubby']\n",
    "num_label = len(cols)\n",
    "\n",
    "A = torch.zeros((num_label, num_label))\n",
    "A[0, 2:6] = 1\n",
    "A[1, 4] = 1\n",
    "saved_folder = 'saved_model'\n",
    "#saved_folder = 'saved_model_downsample_smile_reduce_latent_dim'"
   ]
  },
  {
   "cell_type": "code",
   "execution_count": 4,
   "id": "ef9ee139",
   "metadata": {},
   "outputs": [],
   "source": [
    "in_channels = 3\n",
    "fc_size = 2048\n",
    "latent_dim = 100\n",
    "\n",
    "g_conv_dim = 32\n",
    "enc_dist='gaussian'\n",
    "enc_arch='resnet'\n",
    "enc_fc_size=2048\n",
    "enc_noise_dim=128\n",
    "dec_dist = 'implicit'\n",
    "prior = 'linscm'\n",
    "\n",
    "model = BGM(latent_dim, g_conv_dim, img_dim,\n",
    "                enc_dist, enc_arch, enc_fc_size, enc_noise_dim, dec_dist,\n",
    "                prior, num_label, A)\n",
    "model = nn.DataParallel(model)\n",
    "checkpoint = torch.load(f'{saved_folder}/bgm', map_location='cpu')\n",
    "model.load_state_dict(checkpoint['model_state_dict'])\n",
    "model = model.module.to(device)"
   ]
  },
  {
   "cell_type": "code",
   "execution_count": 5,
   "id": "e4ce055f",
   "metadata": {},
   "outputs": [
    {
     "data": {
      "text/html": [
       "<div>\n",
       "<style scoped>\n",
       "    .dataframe tbody tr th:only-of-type {\n",
       "        vertical-align: middle;\n",
       "    }\n",
       "\n",
       "    .dataframe tbody tr th {\n",
       "        vertical-align: top;\n",
       "    }\n",
       "\n",
       "    .dataframe thead th {\n",
       "        text-align: right;\n",
       "    }\n",
       "</style>\n",
       "<table border=\"1\" class=\"dataframe\">\n",
       "  <thead>\n",
       "    <tr style=\"text-align: right;\">\n",
       "      <th></th>\n",
       "      <th>image_id</th>\n",
       "      <th>5_o_Clock_Shadow</th>\n",
       "      <th>Arched_Eyebrows</th>\n",
       "      <th>Attractive</th>\n",
       "      <th>Bags_Under_Eyes</th>\n",
       "      <th>Bald</th>\n",
       "      <th>Bangs</th>\n",
       "      <th>Big_Lips</th>\n",
       "      <th>Big_Nose</th>\n",
       "      <th>Black_Hair</th>\n",
       "      <th>...</th>\n",
       "      <th>Sideburns</th>\n",
       "      <th>Smiling</th>\n",
       "      <th>Straight_Hair</th>\n",
       "      <th>Wavy_Hair</th>\n",
       "      <th>Wearing_Earrings</th>\n",
       "      <th>Wearing_Hat</th>\n",
       "      <th>Wearing_Lipstick</th>\n",
       "      <th>Wearing_Necklace</th>\n",
       "      <th>Wearing_Necktie</th>\n",
       "      <th>Young</th>\n",
       "    </tr>\n",
       "  </thead>\n",
       "  <tbody>\n",
       "    <tr>\n",
       "      <th>0</th>\n",
       "      <td>103180.jpg</td>\n",
       "      <td>0</td>\n",
       "      <td>0</td>\n",
       "      <td>0</td>\n",
       "      <td>1</td>\n",
       "      <td>0</td>\n",
       "      <td>0</td>\n",
       "      <td>0</td>\n",
       "      <td>1</td>\n",
       "      <td>0</td>\n",
       "      <td>...</td>\n",
       "      <td>0</td>\n",
       "      <td>1</td>\n",
       "      <td>0</td>\n",
       "      <td>1</td>\n",
       "      <td>0</td>\n",
       "      <td>0</td>\n",
       "      <td>0</td>\n",
       "      <td>0</td>\n",
       "      <td>0</td>\n",
       "      <td>0</td>\n",
       "    </tr>\n",
       "    <tr>\n",
       "      <th>1</th>\n",
       "      <td>192717.jpg</td>\n",
       "      <td>0</td>\n",
       "      <td>0</td>\n",
       "      <td>0</td>\n",
       "      <td>1</td>\n",
       "      <td>0</td>\n",
       "      <td>0</td>\n",
       "      <td>0</td>\n",
       "      <td>1</td>\n",
       "      <td>0</td>\n",
       "      <td>...</td>\n",
       "      <td>0</td>\n",
       "      <td>1</td>\n",
       "      <td>0</td>\n",
       "      <td>0</td>\n",
       "      <td>0</td>\n",
       "      <td>0</td>\n",
       "      <td>0</td>\n",
       "      <td>0</td>\n",
       "      <td>0</td>\n",
       "      <td>0</td>\n",
       "    </tr>\n",
       "    <tr>\n",
       "      <th>2</th>\n",
       "      <td>195928.jpg</td>\n",
       "      <td>0</td>\n",
       "      <td>0</td>\n",
       "      <td>0</td>\n",
       "      <td>1</td>\n",
       "      <td>0</td>\n",
       "      <td>0</td>\n",
       "      <td>1</td>\n",
       "      <td>1</td>\n",
       "      <td>0</td>\n",
       "      <td>...</td>\n",
       "      <td>0</td>\n",
       "      <td>1</td>\n",
       "      <td>1</td>\n",
       "      <td>0</td>\n",
       "      <td>0</td>\n",
       "      <td>0</td>\n",
       "      <td>0</td>\n",
       "      <td>0</td>\n",
       "      <td>0</td>\n",
       "      <td>0</td>\n",
       "    </tr>\n",
       "    <tr>\n",
       "      <th>3</th>\n",
       "      <td>171431.jpg</td>\n",
       "      <td>0</td>\n",
       "      <td>0</td>\n",
       "      <td>0</td>\n",
       "      <td>1</td>\n",
       "      <td>1</td>\n",
       "      <td>0</td>\n",
       "      <td>1</td>\n",
       "      <td>1</td>\n",
       "      <td>0</td>\n",
       "      <td>...</td>\n",
       "      <td>0</td>\n",
       "      <td>1</td>\n",
       "      <td>0</td>\n",
       "      <td>0</td>\n",
       "      <td>0</td>\n",
       "      <td>0</td>\n",
       "      <td>0</td>\n",
       "      <td>0</td>\n",
       "      <td>1</td>\n",
       "      <td>0</td>\n",
       "    </tr>\n",
       "    <tr>\n",
       "      <th>4</th>\n",
       "      <td>166913.jpg</td>\n",
       "      <td>1</td>\n",
       "      <td>0</td>\n",
       "      <td>0</td>\n",
       "      <td>1</td>\n",
       "      <td>0</td>\n",
       "      <td>0</td>\n",
       "      <td>0</td>\n",
       "      <td>1</td>\n",
       "      <td>1</td>\n",
       "      <td>...</td>\n",
       "      <td>0</td>\n",
       "      <td>1</td>\n",
       "      <td>1</td>\n",
       "      <td>0</td>\n",
       "      <td>0</td>\n",
       "      <td>0</td>\n",
       "      <td>0</td>\n",
       "      <td>0</td>\n",
       "      <td>1</td>\n",
       "      <td>0</td>\n",
       "    </tr>\n",
       "  </tbody>\n",
       "</table>\n",
       "<p>5 rows × 41 columns</p>\n",
       "</div>"
      ],
      "text/plain": [
       "     image_id  5_o_Clock_Shadow  Arched_Eyebrows  Attractive  Bags_Under_Eyes  \\\n",
       "0  103180.jpg                 0                0           0                1   \n",
       "1  192717.jpg                 0                0           0                1   \n",
       "2  195928.jpg                 0                0           0                1   \n",
       "3  171431.jpg                 0                0           0                1   \n",
       "4  166913.jpg                 1                0           0                1   \n",
       "\n",
       "   Bald  Bangs  Big_Lips  Big_Nose  Black_Hair  ...  Sideburns  Smiling  \\\n",
       "0     0      0         0         1           0  ...          0        1   \n",
       "1     0      0         0         1           0  ...          0        1   \n",
       "2     0      0         1         1           0  ...          0        1   \n",
       "3     1      0         1         1           0  ...          0        1   \n",
       "4     0      0         0         1           1  ...          0        1   \n",
       "\n",
       "   Straight_Hair  Wavy_Hair  Wearing_Earrings  Wearing_Hat  Wearing_Lipstick  \\\n",
       "0              0          1                 0            0                 0   \n",
       "1              0          0                 0            0                 0   \n",
       "2              1          0                 0            0                 0   \n",
       "3              0          0                 0            0                 0   \n",
       "4              1          0                 0            0                 0   \n",
       "\n",
       "   Wearing_Necklace  Wearing_Necktie  Young  \n",
       "0                 0                0      0  \n",
       "1                 0                0      0  \n",
       "2                 0                0      0  \n",
       "3                 0                1      0  \n",
       "4                 0                1      0  \n",
       "\n",
       "[5 rows x 41 columns]"
      ]
     },
     "execution_count": 5,
     "metadata": {},
     "output_type": "execute_result"
    }
   ],
   "source": [
    "file_name = \"dear_train_downsample_smile\"\n",
    "df = pd.read_csv(f\"dataset/celebA/{file_name}.csv\").replace(-1,0)\n",
    "df.head()"
   ]
  },
  {
   "cell_type": "code",
   "execution_count": 6,
   "id": "703e99dc",
   "metadata": {},
   "outputs": [],
   "source": [
    "root_folder = 'dataset/celebA/'\n",
    "dest_dir = 'synthetic_dataset/'\n",
    "dest_img_folder = dest_dir+\"img/\"\n",
    "\n",
    "make_dir = lambda path : os.makedirs(path) if not os.path.exists(path) else 0\n",
    "make_dir(dest_dir)\n",
    "make_dir(dest_dir+\"img\")"
   ]
  },
  {
   "cell_type": "markdown",
   "id": "2cd21264",
   "metadata": {},
   "source": [
    "# Sampling from majority attribute to minority attribute within a class\n",
    "\n",
    "* Smiling = 0, Male = 1 ----> Smiling = 0, Male = 0  \n",
    "* Smiling = 1, Male = 0 ----> Smiling = 1, Male = 1   "
   ]
  },
  {
   "cell_type": "code",
   "execution_count": 7,
   "id": "c7e69760",
   "metadata": {},
   "outputs": [],
   "source": [
    "y_name, attr_name = 'Smiling', 'Male'\n",
    "final_cols = [y_name, attr_name]"
   ]
  },
  {
   "cell_type": "code",
   "execution_count": 8,
   "id": "b630ec74",
   "metadata": {},
   "outputs": [],
   "source": [
    "img_folder = f\"{root_folder}img/img_align_celeba/\""
   ]
  },
  {
   "cell_type": "code",
   "execution_count": 9,
   "id": "d98b4271",
   "metadata": {},
   "outputs": [],
   "source": [
    "class ImageDataset(Dataset):\n",
    "    def __init__(self, root_folder, df, transform, cols = None):\n",
    "        self.transform=transform\n",
    "        self.img_folder=root_folder+'img/img_align_celeba/'\n",
    "        self.attr = df.copy()\n",
    "        self.image_names = self.attr.pop('image_id')\n",
    "        if cols is not None:\n",
    "            self.attr = self.attr[cols]    \n",
    "        self.num_feat = len(self.attr.columns)\n",
    "        self.order = list(self.attr.columns)\n",
    "        self.attr = self.attr.values\n",
    "   \n",
    "    def __len__(self):\n",
    "        return len(self.image_names)\n",
    " \n",
    "    def __getitem__(self, index):\n",
    "        image_path = self.img_folder + self.image_names[index]\n",
    "        image=Image.open(image_path)\n",
    "        image=self.transform(image)\n",
    "        label = torch.tensor(self.attr[index], dtype = torch.float)\n",
    "        return image, label, index\n",
    "\n",
    "def get_dataloader(root_folder, df, img_dim=64, batch_size=32, cols = None):\n",
    "    transform = Compose([Resize((img_dim, img_dim)),\n",
    "                        ToTensor(),\n",
    "                        Normalize((0.5, 0.5, 0.5), (0.5, 0.5, 0.5))])\n",
    "    data = ImageDataset(root_folder=root_folder, df = df, transform=transform, cols = cols)\n",
    "    dataloader = DataLoader(data, batch_size = batch_size, shuffle = True)\n",
    "    return dataloader"
   ]
  },
  {
   "cell_type": "code",
   "execution_count": 10,
   "id": "53e8a739",
   "metadata": {},
   "outputs": [],
   "source": [
    "idx_attr = cols.index(attr_name)\n",
    "idx_y = cols.index(y_name)\n",
    "\n",
    "batch_size = 256\n",
    "make_samples = 40000"
   ]
  },
  {
   "cell_type": "code",
   "execution_count": 11,
   "id": "0f21ee5c",
   "metadata": {},
   "outputs": [],
   "source": [
    "new_imgs_ids_l = []\n",
    "new_attr_l = []\n",
    "new_y_l = []"
   ]
  },
  {
   "cell_type": "markdown",
   "id": "ba0be92d",
   "metadata": {},
   "source": [
    "### Conversion 1\n",
    "* Smiling = 0, Male = 1 ----> Smiling = 0, Male = 0  \n",
    "* Not Smiling, From Male to Female"
   ]
  },
  {
   "cell_type": "code",
   "execution_count": 12,
   "id": "8da60570",
   "metadata": {},
   "outputs": [
    {
     "name": "stdout",
     "output_type": "stream",
     "text": [
      "Number of rows available for conversion :  40556\n"
     ]
    }
   ],
   "source": [
    "df_temp = df[(df['Smiling']==0) & (df['Male']==1)].reset_index(drop=True)\n",
    "print('Number of rows available for conversion : ', len(df_temp))"
   ]
  },
  {
   "cell_type": "code",
   "execution_count": 13,
   "id": "e11eb096",
   "metadata": {},
   "outputs": [],
   "source": [
    "dc1_loader = get_dataloader(root_folder, df_temp, batch_size = batch_size)"
   ]
  },
  {
   "cell_type": "code",
   "execution_count": 14,
   "id": "0bd19773",
   "metadata": {},
   "outputs": [],
   "source": [
    "def save_fig(img_batch, img_id, folder):\n",
    "    for idx, img in enumerate(img_batch):\n",
    "        img = Image.fromarray(img.astype(np.uint8)).convert('RGB')\n",
    "        img_path = folder+str(img_id[idx])+\"_t.jpg\"\n",
    "        img.save(img_path)"
   ]
  },
  {
   "cell_type": "code",
   "execution_count": 15,
   "id": "2907bdc6",
   "metadata": {},
   "outputs": [],
   "source": [
    "attr_new , y_new = 0, 0\n",
    "with torch.no_grad():\n",
    "    for x, label, index in dc1_loader:\n",
    "        x = x.to(device)\n",
    "        eps = model.encode(x)\n",
    "        eps[:, idx_attr] = -2 if attr_new == 0 else 2\n",
    "        eps[:, idx_y] = -2 if y_new == 0 else 2\n",
    "        label_z = model.prior(eps[:, :num_label])\n",
    "        other_z = eps[:, num_label:]\n",
    "        z = torch.cat([label_z, other_z], dim=1)\n",
    "        new_img = model.decoder(z)\n",
    "        new_img = np.transpose(new_img.cpu().numpy(), (0, 2, 3, 1))\n",
    "        new_img = (new_img*0.5 + 0.5) * 255\n",
    "        prev_img_id = list(df_temp.iloc[index]['image_id'])\n",
    "        prev_img_id = [x.replace(\".jpg\",\"\") for x in prev_img_id]\n",
    "        save_fig(new_img, prev_img_id, dest_img_folder)\n",
    "        new_imgs_ids_l = new_imgs_ids_l + [i+\"_t.jpg\" for i in prev_img_id]\n",
    "        new_attr_l = new_attr_l + [attr_new for _ in range(len(prev_img_id))]\n",
    "        new_y_l = new_y_l + [y_new for _ in range(len(prev_img_id))]\n",
    "        if len(new_y_l) > make_samples:\n",
    "            break"
   ]
  },
  {
   "cell_type": "markdown",
   "id": "809a165d",
   "metadata": {},
   "source": [
    "### Conversion 2\n",
    "* Smiling = 1, Male = 0 ----> Smiling = 1, Male = 1"
   ]
  },
  {
   "cell_type": "code",
   "execution_count": 16,
   "id": "cc61f0a5",
   "metadata": {},
   "outputs": [
    {
     "name": "stdout",
     "output_type": "stream",
     "text": [
      "Number of rows available for conversion :  51066\n"
     ]
    }
   ],
   "source": [
    "df_temp = df[(df['Smiling']==1) & (df['Male']==0)].reset_index(drop=True)\n",
    "print('Number of rows available for conversion : ', len(df_temp))"
   ]
  },
  {
   "cell_type": "code",
   "execution_count": 17,
   "id": "8db16245",
   "metadata": {},
   "outputs": [],
   "source": [
    "dc2_loader = get_dataloader(root_folder, df_temp, batch_size = batch_size)\n",
    "\n",
    "attr_new , y_new = 1, 1\n",
    "with torch.no_grad():\n",
    "    for x, label, index in dc1_loader:\n",
    "        x = x.to(device)\n",
    "        # Get the value in the unit-space\n",
    "        eps = model.encode(x)\n",
    "        # Get the prior\n",
    "        eps[:, idx_attr] = -2 if attr_new == 0 else 2\n",
    "        eps[:, idx_y] = -1 if y_new == 0 else 1\n",
    "        label_z = model.prior(eps[:, :num_label])\n",
    "        # Intervene\n",
    "        other_z = eps[:, num_label:]\n",
    "        z = torch.cat([label_z, other_z], dim=1)\n",
    "        # Get new img based on the new prior\n",
    "        new_img = model.decoder(z)\n",
    "        new_img = np.transpose(new_img.cpu().numpy(), (0, 2, 3, 1))\n",
    "        new_img = (new_img*0.5 + 0.5) * 255\n",
    "        prev_img_id = list(df_temp.iloc[index]['image_id'])\n",
    "        prev_img_id = [x.replace(\".jpg\",\"\") for x in prev_img_id]\n",
    "        save_fig(new_img, prev_img_id, dest_img_folder)\n",
    "        new_imgs_ids_l = new_imgs_ids_l + [i+\"_t.jpg\" for i in prev_img_id]\n",
    "        new_attr_l = new_attr_l + [attr_new for _ in range(len(prev_img_id))]\n",
    "        new_y_l = new_y_l + [y_new for _ in range(len(prev_img_id))]\n",
    "        if len(new_y_l) > 2*make_samples:\n",
    "            break"
   ]
  },
  {
   "cell_type": "code",
   "execution_count": 18,
   "id": "affca3fd",
   "metadata": {},
   "outputs": [],
   "source": [
    "import shutil\n",
    "def copy_img(src_path, dest_path):\n",
    "    shutil.copy(src_path, dest_path)"
   ]
  },
  {
   "cell_type": "code",
   "execution_count": 19,
   "id": "40254279",
   "metadata": {},
   "outputs": [],
   "source": [
    "for idx,row in df.iterrows():\n",
    "    image_id = row['image_id']\n",
    "    attr_val = row[attr_name]\n",
    "    y_val = row[y_name]\n",
    "    src_ = f'{img_folder}{image_id}'\n",
    "    dst_ = dest_img_folder+image_id\n",
    "    copy_img(src_, dst_)\n",
    "    new_imgs_ids_l.append(image_id) \n",
    "    new_attr_l.append(attr_val) \n",
    "    new_y_l.append(y_val)"
   ]
  },
  {
   "cell_type": "code",
   "execution_count": 20,
   "id": "f326bad5",
   "metadata": {},
   "outputs": [],
   "source": [
    "new_df = pd.DataFrame.from_dict({\n",
    "    'image_id':new_imgs_ids_l,\n",
    "    f'{attr_name}' : new_attr_l, \n",
    "    f'{y_name}':new_y_l\n",
    "})"
   ]
  },
  {
   "cell_type": "code",
   "execution_count": 21,
   "id": "70c23057",
   "metadata": {},
   "outputs": [],
   "source": [
    "new_df.to_csv(dest_dir+\"generated_smiling.csv\", index=False)"
   ]
  },
  {
   "cell_type": "code",
   "execution_count": 22,
   "id": "ca4e93b7",
   "metadata": {},
   "outputs": [
    {
     "data": {
      "image/png": "[encoded data removed]",
      "text/plain": [
       "<Figure size 500x300 with 1 Axes>"
      ]
     },
     "metadata": {},
     "output_type": "display_data"
    }
   ],
   "source": [
    "plt.figure(figsize=(5,3))\n",
    "sns.countplot(data = new_df, x = y_name, hue =attr_name)\n",
    "plt.show()"
   ]
  },
  {
   "cell_type": "code",
   "execution_count": null,
   "id": "77fd6650",
   "metadata": {},
   "outputs": [],
   "source": []
  }
 ],
 "metadata": {
  "kernelspec": {
   "display_name": "Python 3 (ipykernel)",
   "language": "python",
   "name": "python3"
  },
  "language_info": {
   "codemirror_mode": {
    "name": "ipython",
    "version": 3
   },
   "file_extension": ".py",
   "mimetype": "text/x-python",
   "name": "python",
   "nbconvert_exporter": "python",
   "pygments_lexer": "ipython3",
   "version": "3.10.10"
  }
 },
 "nbformat": 4,
 "nbformat_minor": 5
}
