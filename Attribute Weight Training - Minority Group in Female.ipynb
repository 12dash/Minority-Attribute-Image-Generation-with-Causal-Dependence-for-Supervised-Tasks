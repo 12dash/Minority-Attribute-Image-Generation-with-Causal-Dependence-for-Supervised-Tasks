{
 "cells": [
  {
   "cell_type": "code",
   "execution_count": 1,
   "id": "ca26e8e0",
   "metadata": {},
   "outputs": [],
   "source": [
    "import pandas as pd\n",
    "from PIL import Image\n",
    "\n",
    "import torch\n",
    "import torch.optim as optim\n",
    "from torch.utils.data import DataLoader, Dataset\n",
    "from torchvision.transforms import ToTensor, Compose, Resize, Normalize, CenterCrop\n",
    "from resnet import *\n",
    "\n",
    "from sklearn.utils.class_weight import compute_class_weight\n",
    "\n",
    "import torch.nn as nn\n",
    "import torch.nn.functional as F\n",
    "from tqdm.notebook import tqdm"
   ]
  },
  {
   "cell_type": "code",
   "execution_count": 2,
   "id": "a8715cfa",
   "metadata": {},
   "outputs": [],
   "source": [
    "class ImageDataset(Dataset):\n",
    "    def __init__(self, root_folder, file_name, transform, attr, label = None, weights = None):\n",
    "        self.transform=transform\n",
    "        self.img_folder=root_folder+'img/img_align_celeba/'\n",
    "        \n",
    "        self.df = pd.read_csv(root_folder+file_name+'.csv').replace(-1,0).reset_index(drop=True)\n",
    "        self.image_names = self.df.pop('image_id')\n",
    "        self.attr = self.df[attr].values\n",
    "        self.label = self.df[label].values\n",
    "        self.weights = weights if weights is not None else None\n",
    "   \n",
    "    def __len__(self):\n",
    "        return len(self.image_names)\n",
    " \n",
    "    def __getitem__(self, index):\n",
    "        image_path = self.img_folder + self.image_names[index]\n",
    "        image=Image.open(image_path)\n",
    "        image=self.transform(image)\n",
    "        label = torch.tensor(self.label[index], dtype=torch.float32)\n",
    "        weight = self.weights[self.label[index]][self.attr[index]] if self.weights is not None else 0\n",
    "        weight = torch.tensor(weight, dtype=torch.float32)\n",
    "        return image, label, weight, self.attr[index]"
   ]
  },
  {
   "cell_type": "code",
   "execution_count": 3,
   "id": "82622c3d",
   "metadata": {},
   "outputs": [],
   "source": [
    "def get_weights(file, label, attr, classes = [\"00\",\"01\", \"10\", \"11\"]):\n",
    "    df = pd.read_csv(f'dataset/celebA/{file}.csv').replace(-1,0)\n",
    "    l = []\n",
    "    for _, row in df.iterrows():\n",
    "        l.append(str(row[label])+str(row[attr]))\n",
    "    df['classes'] = pd.Series(l)\n",
    "    display(df['classes'].value_counts())\n",
    "    weights = compute_class_weight(class_weight = 'balanced', y = df['classes'], classes = classes)\n",
    "    weights = {\n",
    "        0 : {0:weights[0], 1:weights[1]}, \n",
    "        1 : {0:weights[2], 1:weights[3]}, \n",
    "    }\n",
    "    return weights"
   ]
  },
  {
   "cell_type": "code",
   "execution_count": 4,
   "id": "7d9d30c7",
   "metadata": {},
   "outputs": [],
   "source": [
    "device = \"cuda\" if torch.cuda.is_available() else \"mps\" if torch.backends.mps.is_available() else \"cpu\""
   ]
  },
  {
   "cell_type": "code",
   "execution_count": 5,
   "id": "dbbb9561",
   "metadata": {},
   "outputs": [],
   "source": [
    "root_folder = 'dataset/celebA/'\n",
    "img_dim = 64\n",
    "batch_size = 32\n",
    "file_name = 'down_train_downsaple_minority_group'\n",
    "attr  = 'Male'\n",
    "label = 'Young'"
   ]
  },
  {
   "cell_type": "code",
   "execution_count": 6,
   "id": "06400ac7",
   "metadata": {},
   "outputs": [
    {
     "data": {
      "text/plain": [
       "10    16590\n",
       "01     4986\n",
       "11     1700\n",
       "00      468\n",
       "Name: classes, dtype: int64"
      ]
     },
     "metadata": {},
     "output_type": "display_data"
    },
    {
     "data": {
      "text/plain": [
       "{0: {0: 12.683760683760683, 1: 1.1905334937825913},\n",
       " 1: {0: 0.35780590717299576, 1: 3.491764705882353}}"
      ]
     },
     "execution_count": 6,
     "metadata": {},
     "output_type": "execute_result"
    }
   ],
   "source": [
    "weights = get_weights(file_name, label, attr = attr)\n",
    "weights"
   ]
  },
  {
   "cell_type": "code",
   "execution_count": 7,
   "id": "cb395b46",
   "metadata": {},
   "outputs": [],
   "source": [
    "transform = Compose([Resize((img_dim, img_dim)),\n",
    "                     ToTensor(),\n",
    "                     Normalize((0.5, 0.5, 0.5), (0.5, 0.5, 0.5))])\n",
    "data = ImageDataset(root_folder=root_folder, file_name = file_name, transform=transform,\n",
    "                    attr = attr, label = label, weights = weights)\n",
    "train_dataloader = DataLoader(data, batch_size = batch_size,shuffle = True)\n",
    "testdata = ImageDataset(root_folder=root_folder, file_name = 'down_test', transform=transform,\n",
    "                    attr = attr, label = label)\n",
    "test_dataloader = DataLoader(testdata, batch_size = batch_size,shuffle = True)"
   ]
  },
  {
   "cell_type": "code",
   "execution_count": 8,
   "id": "414a44b3",
   "metadata": {},
   "outputs": [
    {
     "name": "stdout",
     "output_type": "stream",
     "text": [
      "Number of samples :  23744\n"
     ]
    }
   ],
   "source": [
    "print(\"Number of samples : \", len(train_dataloader.dataset))"
   ]
  },
  {
   "cell_type": "code",
   "execution_count": 9,
   "id": "ddf31a13",
   "metadata": {},
   "outputs": [],
   "source": [
    "model = resnet18(pretrained=False, in_channels=3, fc_size=2048, out_dim=1).to(device)"
   ]
  },
  {
   "cell_type": "code",
   "execution_count": 10,
   "id": "c1fb4120",
   "metadata": {},
   "outputs": [],
   "source": [
    "def element_weighted_loss(y_hat, y, weights):\n",
    "    criterion = nn.BCEWithLogitsLoss(reduction='none')\n",
    "    loss = criterion(y_hat, y)\n",
    "    #loss = loss * weights\n",
    "    #return loss.sum() / weights.sum()\n",
    "    return loss.mean()"
   ]
  },
  {
   "cell_type": "code",
   "execution_count": 11,
   "id": "2e00ea4e",
   "metadata": {},
   "outputs": [],
   "source": [
    "optimizer = optim.Adam(model.parameters())"
   ]
  },
  {
   "cell_type": "code",
   "execution_count": 12,
   "id": "bd13d89c",
   "metadata": {},
   "outputs": [],
   "source": [
    "num = len(train_dataloader.dataset)//batch_size + 1"
   ]
  },
  {
   "cell_type": "code",
   "execution_count": 13,
   "id": "76516ae4",
   "metadata": {},
   "outputs": [
    {
     "data": {
      "application/vnd.jupyter.widget-view+json": {
       "model_id": "d08e44fdec3043ddb5641f18310c9b0b",
       "version_major": 2,
       "version_minor": 0
      },
      "text/plain": [
       "  0%|          | 0/743 [00:00<?, ?it/s]"
      ]
     },
     "metadata": {},
     "output_type": "display_data"
    },
    {
     "name": "stdout",
     "output_type": "stream",
     "text": [
      "[1] Train loss: 0.351\n"
     ]
    },
    {
     "data": {
      "application/vnd.jupyter.widget-view+json": {
       "model_id": "786b5d32c9084d4ca26ba7c964aa768a",
       "version_major": 2,
       "version_minor": 0
      },
      "text/plain": [
       "  0%|          | 0/743 [00:00<?, ?it/s]"
      ]
     },
     "metadata": {},
     "output_type": "display_data"
    },
    {
     "name": "stdout",
     "output_type": "stream",
     "text": [
      "[2] Train loss: 0.262\n"
     ]
    },
    {
     "data": {
      "application/vnd.jupyter.widget-view+json": {
       "model_id": "493c81c46e304ea885a36d4395dee25e",
       "version_major": 2,
       "version_minor": 0
      },
      "text/plain": [
       "  0%|          | 0/743 [00:00<?, ?it/s]"
      ]
     },
     "metadata": {},
     "output_type": "display_data"
    },
    {
     "name": "stdout",
     "output_type": "stream",
     "text": [
      "[3] Train loss: 0.251\n"
     ]
    },
    {
     "data": {
      "application/vnd.jupyter.widget-view+json": {
       "model_id": "650c2a1c83474443baa48928fc2f9dba",
       "version_major": 2,
       "version_minor": 0
      },
      "text/plain": [
       "  0%|          | 0/743 [00:00<?, ?it/s]"
      ]
     },
     "metadata": {},
     "output_type": "display_data"
    },
    {
     "name": "stdout",
     "output_type": "stream",
     "text": [
      "[4] Train loss: 0.231\n"
     ]
    },
    {
     "data": {
      "application/vnd.jupyter.widget-view+json": {
       "model_id": "17312b6e5a2043b69f30545e95773d4d",
       "version_major": 2,
       "version_minor": 0
      },
      "text/plain": [
       "  0%|          | 0/743 [00:00<?, ?it/s]"
      ]
     },
     "metadata": {},
     "output_type": "display_data"
    },
    {
     "name": "stdout",
     "output_type": "stream",
     "text": [
      "[5] Train loss: 0.222\n",
      "Finished Training\n"
     ]
    }
   ],
   "source": [
    "model.train()\n",
    "for epoch in range(5): \n",
    "    running_loss = 0.0\n",
    "    for i, data in tqdm(enumerate(train_dataloader), total = num):\n",
    "        inputs, labels, weights, attr = data\n",
    "        inputs, labels, weights, attr = inputs.to(device), labels.to(device), weights.to(device), attr.to(device)\n",
    "    \n",
    "        optimizer.zero_grad()\n",
    "        outputs,_ = model(inputs)\n",
    "        loss = element_weighted_loss(outputs, labels.unsqueeze(1), weights)\n",
    "        loss.backward()\n",
    "        optimizer.step()\n",
    "        running_loss += loss.item()\n",
    "    print(f'[{epoch + 1}] Train loss: {running_loss / num:.3f}')\n",
    "          \n",
    "print('Finished Training')"
   ]
  },
  {
   "cell_type": "code",
   "execution_count": 14,
   "id": "d0ebcf68",
   "metadata": {},
   "outputs": [
    {
     "data": {
      "application/vnd.jupyter.widget-view+json": {
       "model_id": "7e6b22d23c804b64826d312403f54594",
       "version_major": 2,
       "version_minor": 0
      },
      "text/plain": [
       "  0%|          | 0/126 [00:00<?, ?it/s]"
      ]
     },
     "metadata": {},
     "output_type": "display_data"
    }
   ],
   "source": [
    "#class:{attr:}\n",
    "correct_pred = {0:{0:0,1:0},1:{0:0,1:0}}\n",
    "total_pred = {0:{0:0,1:0},1:{0:0,1:0}}\n",
    "\n",
    "with torch.no_grad():\n",
    "    model.eval()\n",
    "    for data in tqdm(test_dataloader, total=len(test_dataloader.dataset)//batch_size):\n",
    "        inputs, labels, weights, attrs = data\n",
    "        inputs, labels, weights, attrs = inputs.to(device), labels.to(device), weights.to(device), attrs.to(device)\n",
    "        outputs, _ = model(inputs)\n",
    "        predictions = torch.round(torch.sigmoid(outputs))\n",
    "        for label, prediction, attr in zip(labels, predictions, attrs):\n",
    "            if label == prediction:\n",
    "                correct_pred[label.item()][attr.item()] += 1\n",
    "            total_pred[label.item()][attr.item()] += 1"
   ]
  },
  {
   "cell_type": "code",
   "execution_count": null,
   "id": "95fad1e7",
   "metadata": {},
   "outputs": [],
   "source": [
    "for classname, correct_counts in correct_pred.items():\n",
    "    for attr_name, correct_count in correct_counts.items():\n",
    "        accuracy = 100 * float(correct_count) / total_pred[classname][attr_name]\n",
    "        print(f'Accuracy for class: {classname} , attr: {attr_name}: {accuracy} total: {total_pred[classname][attr_name]}  ')"
   ]
  },
  {
   "cell_type": "markdown",
   "id": "fd7ce369",
   "metadata": {},
   "source": [
    "## Without weights\n",
    "\n",
    "Accuracy for class: 0 , attr: 0: 12.269938650306749 total: 326  \n",
    "Accuracy for class: 0 , attr: 1: 56.426332288401255 total: 638  \n",
    "Accuracy for class: 1 , attr: 0: 97.52720079129574 total: 2022  \n",
    "Accuracy for class: 1 , attr: 1: 91.18198874296435 total: 1066  "
   ]
  },
  {
   "cell_type": "markdown",
   "id": "1e974a98",
   "metadata": {},
   "source": [
    "## With Weights\n",
    "Accuracy for class: 0 , attr: 0: 7.975460122699387 total: 326  \n",
    "Accuracy for class: 0 , attr: 1: 49.529780564263326 total: 638  \n",
    "Accuracy for class: 1 , attr: 0: 99.06033630069238 total: 2022  \n",
    "Accuracy for class: 1 , attr: 1: 94.74671669793621 total: 1066  "
   ]
  },
  {
   "cell_type": "code",
   "execution_count": null,
   "id": "6708b7b9",
   "metadata": {},
   "outputs": [],
   "source": []
  }
 ],
 "metadata": {
  "kernelspec": {
   "display_name": "Python 3 (ipykernel)",
   "language": "python",
   "name": "python3"
  },
  "language_info": {
   "codemirror_mode": {
    "name": "ipython",
    "version": 3
   },
   "file_extension": ".py",
   "mimetype": "text/x-python",
   "name": "python",
   "nbconvert_exporter": "python",
   "pygments_lexer": "ipython3",
   "version": "3.10.10"
  }
 },
 "nbformat": 4,
 "nbformat_minor": 5
}
