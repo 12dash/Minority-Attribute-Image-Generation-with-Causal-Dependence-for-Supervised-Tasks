{
 "cells": [
  {
   "cell_type": "code",
   "execution_count": 1,
   "id": "ca26e8e0",
   "metadata": {},
   "outputs": [],
   "source": [
    "import pandas as pd\n",
    "from PIL import Image\n",
    "\n",
    "import torch\n",
    "from torch.utils.data import DataLoader, Dataset\n",
    "from torchvision.transforms import ToTensor, Compose, Resize, Normalize, CenterCrop\n",
    "\n",
    "from sklearn.utils.class_weight import compute_class_weight\n",
    "\n",
    "import torch.nn as nn\n",
    "import torch.nn.functional as F\n",
    "from tqdm.notebook import tqdm"
   ]
  },
  {
   "cell_type": "code",
   "execution_count": 2,
   "id": "a8715cfa",
   "metadata": {},
   "outputs": [],
   "source": [
    "class ImageDataset(Dataset):\n",
    "    def __init__(self, root_folder, file_name, transform, attr, label = None, weights = None):\n",
    "        self.transform=transform\n",
    "        self.img_folder=root_folder+'img/img_align_celeba/'\n",
    "        \n",
    "        self.df = pd.read_csv(root_folder+file_name+'.csv').replace(-1,0).reset_index(drop=True)\n",
    "        self.image_names = self.df.pop('image_id')\n",
    "        self.attr = self.df[attr].values\n",
    "        self.label = self.df[label].values\n",
    "        self.weights = weights if weights is not None else None\n",
    "   \n",
    "    def __len__(self):\n",
    "        return len(self.image_names)\n",
    " \n",
    "    def __getitem__(self, index):\n",
    "        image_path = self.img_folder + self.image_names[index]\n",
    "        image=Image.open(image_path)\n",
    "        image=self.transform(image)\n",
    "        label = torch.tensor(self.label[index], dtype=torch.float32)\n",
    "        weight = self.weights[self.label[index]][self.attr[index]] if self.weights is not None else 0\n",
    "        weight = torch.tensor(weight, dtype=torch.float32)\n",
    "        return image, label, weight, self.attr[index]"
   ]
  },
  {
   "cell_type": "code",
   "execution_count": 22,
   "id": "82622c3d",
   "metadata": {},
   "outputs": [],
   "source": [
    "def get_weights(file, label, label_value, attr, classes = [0,1]):\n",
    "    df = pd.read_csv(f'dataset/celebA/{file}.csv').replace(-1,0)\n",
    "    df = df[df[label] == label_value].reset_index(drop=True)\n",
    "    print(\"Label : \", label, label_value)\n",
    "    display(df[attr].value_counts())\n",
    "    weights = compute_class_weight(class_weight = 'balanced', y = df[attr], classes = classes)\n",
    "    weights = {classname : weights[i] for i, classname in enumerate(classes)}\n",
    "    return weights"
   ]
  },
  {
   "cell_type": "code",
   "execution_count": 23,
   "id": "7d9d30c7",
   "metadata": {},
   "outputs": [],
   "source": [
    "device = \"cuda\" if torch.cuda.is_available() else \"mps\" if torch.backends.mps.is_available() else \"cpu\""
   ]
  },
  {
   "cell_type": "code",
   "execution_count": 24,
   "id": "dbbb9561",
   "metadata": {},
   "outputs": [],
   "source": [
    "root_folder = 'dataset/celebA/'\n",
    "img_dim = 64\n",
    "batch_size = 16\n",
    "file_name = 'down_train_downsaple_minority_group'\n",
    "label = 'Smiling'\n",
    "attr = 'Male'"
   ]
  },
  {
   "cell_type": "code",
   "execution_count": 25,
   "id": "06400ac7",
   "metadata": {},
   "outputs": [
    {
     "name": "stdout",
     "output_type": "stream",
     "text": [
      "Label :  Smiling 0\n"
     ]
    },
    {
     "data": {
      "text/plain": [
       "1    8002\n",
       "0      79\n",
       "Name: Male, dtype: int64"
      ]
     },
     "metadata": {},
     "output_type": "display_data"
    },
    {
     "name": "stdout",
     "output_type": "stream",
     "text": [
      "Label :  Smiling 1\n"
     ]
    },
    {
     "data": {
      "text/plain": [
       "1    5484\n",
       "0     110\n",
       "Name: Male, dtype: int64"
      ]
     },
     "metadata": {},
     "output_type": "display_data"
    },
    {
     "data": {
      "text/plain": [
       "{0: {0: 51.14556962025316, 1: 0.5049362659335166},\n",
       " 1: {0: 25.427272727272726, 1: 0.5100291757840992}}"
      ]
     },
     "execution_count": 25,
     "metadata": {},
     "output_type": "execute_result"
    }
   ],
   "source": [
    "weights = {0:{}, 1:{}}\n",
    "weights[0] = get_weights(file_name, label, label_value = 0, attr = attr)\n",
    "weights[1] = get_weights(file_name, label, label_value = 1, attr = attr)\n",
    "weights"
   ]
  },
  {
   "cell_type": "code",
   "execution_count": 7,
   "id": "cb395b46",
   "metadata": {},
   "outputs": [],
   "source": [
    "transform = Compose([CenterCrop(128),\n",
    "                     Resize((img_dim, img_dim)),\n",
    "                     ToTensor(),\n",
    "                     Normalize((0.5, 0.5, 0.5), (0.5, 0.5, 0.5))])\n",
    "data = ImageDataset(root_folder=root_folder, file_name = file_name, transform=transform,\n",
    "                    attr = attr, label = label, weights = weights)\n",
    "train_dataloader = DataLoader(data, batch_size = batch_size,shuffle = True)\n",
    "testdata = ImageDataset(root_folder=root_folder, file_name = 'down_test', transform=transform,\n",
    "                    attr = attr, label = label)\n",
    "test_dataloader = DataLoader(testdata, batch_size = batch_size,shuffle = True)"
   ]
  },
  {
   "cell_type": "code",
   "execution_count": 8,
   "id": "414a44b3",
   "metadata": {},
   "outputs": [
    {
     "name": "stdout",
     "output_type": "stream",
     "text": [
      "Number of samples :  13675\n"
     ]
    }
   ],
   "source": [
    "print(\"Number of samples : \", len(train_dataloader.dataset))"
   ]
  },
  {
   "cell_type": "code",
   "execution_count": 9,
   "id": "c492c31e",
   "metadata": {},
   "outputs": [],
   "source": [
    "class AttributeWeight(nn.Module):\n",
    "    def __init__(self):\n",
    "        super().__init__()\n",
    "        self.conv1 = nn.Conv2d(3, 64, 5)\n",
    "        self.pool = nn.MaxPool2d(2, 2)\n",
    "        self.conv2 = nn.Conv2d(64, 32, 5)\n",
    "        self.pool2 = nn.MaxPool2d(2, 2)\n",
    "        self.conv3 = nn.Conv2d(32, 16, 5)\n",
    "        self.fc1 = nn.Linear(5408, 120)\n",
    "        self.fc2 = nn.Linear(120, 84)\n",
    "        self.fc3 = nn.Linear(84, 1)\n",
    "\n",
    "    def forward(self, x):\n",
    "        x = self.pool(F.relu(self.conv1(x)))\n",
    "        x = self.pool(F.relu(self.conv2(x)))\n",
    "        x = torch.flatten(x, 1) \n",
    "        x = F.relu(self.fc1(x))\n",
    "        x = F.relu(self.fc2(x))\n",
    "        x = F.sigmoid(self.fc3(x))\n",
    "        return x"
   ]
  },
  {
   "cell_type": "code",
   "execution_count": 10,
   "id": "c1fb4120",
   "metadata": {},
   "outputs": [],
   "source": [
    "def element_weighted_loss(y_hat, y, weights):\n",
    "    criterion = nn.BCELoss(reduction='none')\n",
    "    loss = criterion(y_hat, y)\n",
    "    #loss = loss * weights\n",
    "    #return loss.sum() / weights.sum()\n",
    "    return loss.mean()"
   ]
  },
  {
   "cell_type": "code",
   "execution_count": 11,
   "id": "ddf31a13",
   "metadata": {},
   "outputs": [],
   "source": [
    "model = AttributeWeight().to(device)"
   ]
  },
  {
   "cell_type": "code",
   "execution_count": 12,
   "id": "2e00ea4e",
   "metadata": {},
   "outputs": [],
   "source": [
    "import torch.optim as optim\n",
    "optimizer = optim.SGD(model.parameters(), lr=0.001, momentum=0.9)"
   ]
  },
  {
   "cell_type": "code",
   "execution_count": 13,
   "id": "bd13d89c",
   "metadata": {},
   "outputs": [],
   "source": [
    "num = len(train_dataloader.dataset)//batch_size + 1"
   ]
  },
  {
   "cell_type": "code",
   "execution_count": 14,
   "id": "76516ae4",
   "metadata": {},
   "outputs": [
    {
     "data": {
      "application/vnd.jupyter.widget-view+json": {
       "model_id": "1b4ca189f72c4a57a9445c3c83e1690b",
       "version_major": 2,
       "version_minor": 0
      },
      "text/plain": [
       "  0%|          | 0/855 [00:00<?, ?it/s]"
      ]
     },
     "metadata": {},
     "output_type": "display_data"
    },
    {
     "name": "stdout",
     "output_type": "stream",
     "text": [
      "[1] loss: 0.651\n"
     ]
    },
    {
     "data": {
      "application/vnd.jupyter.widget-view+json": {
       "model_id": "db0227d73c864a809d7360bbf5962088",
       "version_major": 2,
       "version_minor": 0
      },
      "text/plain": [
       "  0%|          | 0/855 [00:00<?, ?it/s]"
      ]
     },
     "metadata": {},
     "output_type": "display_data"
    },
    {
     "name": "stdout",
     "output_type": "stream",
     "text": [
      "[2] loss: 0.405\n"
     ]
    },
    {
     "data": {
      "application/vnd.jupyter.widget-view+json": {
       "model_id": "c710de6337c942a18fdaf108856bddb4",
       "version_major": 2,
       "version_minor": 0
      },
      "text/plain": [
       "  0%|          | 0/855 [00:00<?, ?it/s]"
      ]
     },
     "metadata": {},
     "output_type": "display_data"
    },
    {
     "name": "stdout",
     "output_type": "stream",
     "text": [
      "[3] loss: 0.293\n"
     ]
    },
    {
     "data": {
      "application/vnd.jupyter.widget-view+json": {
       "model_id": "01e9111fa1604712acaaa24f311485bb",
       "version_major": 2,
       "version_minor": 0
      },
      "text/plain": [
       "  0%|          | 0/855 [00:00<?, ?it/s]"
      ]
     },
     "metadata": {},
     "output_type": "display_data"
    },
    {
     "name": "stdout",
     "output_type": "stream",
     "text": [
      "[4] loss: 0.260\n"
     ]
    },
    {
     "data": {
      "application/vnd.jupyter.widget-view+json": {
       "model_id": "ee54c9f74eb0426ba98298d10b91946d",
       "version_major": 2,
       "version_minor": 0
      },
      "text/plain": [
       "  0%|          | 0/855 [00:00<?, ?it/s]"
      ]
     },
     "metadata": {},
     "output_type": "display_data"
    },
    {
     "name": "stdout",
     "output_type": "stream",
     "text": [
      "[5] loss: 0.241\n"
     ]
    },
    {
     "data": {
      "application/vnd.jupyter.widget-view+json": {
       "model_id": "6c9ab893455a4be48fd416d16738070a",
       "version_major": 2,
       "version_minor": 0
      },
      "text/plain": [
       "  0%|          | 0/855 [00:00<?, ?it/s]"
      ]
     },
     "metadata": {},
     "output_type": "display_data"
    },
    {
     "name": "stdout",
     "output_type": "stream",
     "text": [
      "[6] loss: 0.228\n"
     ]
    },
    {
     "data": {
      "application/vnd.jupyter.widget-view+json": {
       "model_id": "067e1dc3e96446fabcdb5b5300817714",
       "version_major": 2,
       "version_minor": 0
      },
      "text/plain": [
       "  0%|          | 0/855 [00:00<?, ?it/s]"
      ]
     },
     "metadata": {},
     "output_type": "display_data"
    },
    {
     "name": "stdout",
     "output_type": "stream",
     "text": [
      "[7] loss: 0.216\n"
     ]
    },
    {
     "data": {
      "application/vnd.jupyter.widget-view+json": {
       "model_id": "0deea19cb6d543a7bd19b67e332d49d6",
       "version_major": 2,
       "version_minor": 0
      },
      "text/plain": [
       "  0%|          | 0/855 [00:00<?, ?it/s]"
      ]
     },
     "metadata": {},
     "output_type": "display_data"
    },
    {
     "name": "stdout",
     "output_type": "stream",
     "text": [
      "[8] loss: 0.206\n"
     ]
    },
    {
     "data": {
      "application/vnd.jupyter.widget-view+json": {
       "model_id": "c0fad95ce8f7496891bfe8b392bf9316",
       "version_major": 2,
       "version_minor": 0
      },
      "text/plain": [
       "  0%|          | 0/855 [00:00<?, ?it/s]"
      ]
     },
     "metadata": {},
     "output_type": "display_data"
    },
    {
     "name": "stdout",
     "output_type": "stream",
     "text": [
      "[9] loss: 0.196\n"
     ]
    },
    {
     "data": {
      "application/vnd.jupyter.widget-view+json": {
       "model_id": "d1e071f29a2d439b849a2fc22b807879",
       "version_major": 2,
       "version_minor": 0
      },
      "text/plain": [
       "  0%|          | 0/855 [00:00<?, ?it/s]"
      ]
     },
     "metadata": {},
     "output_type": "display_data"
    },
    {
     "name": "stdout",
     "output_type": "stream",
     "text": [
      "[10] loss: 0.188\n",
      "Finished Training\n"
     ]
    }
   ],
   "source": [
    "for epoch in range(10):  \n",
    "    running_loss = 0.0\n",
    "    for i, data in tqdm(enumerate(train_dataloader), total = num):\n",
    "        inputs, labels, weights, attr = data\n",
    "        inputs, labels, weights, attr = inputs.to(device), labels.to(device), weights.to(device), attr.to(device)\n",
    "        optimizer.zero_grad()\n",
    "        outputs = model(inputs)\n",
    "        loss = element_weighted_loss(outputs, labels.unsqueeze(1), weights)\n",
    "        loss.backward()\n",
    "        optimizer.step()\n",
    "        running_loss += loss.item()\n",
    "    print(f'[{epoch + 1}] loss: {running_loss / num:.3f}')\n",
    "          \n",
    "print('Finished Training')"
   ]
  },
  {
   "cell_type": "code",
   "execution_count": 15,
   "id": "d0ebcf68",
   "metadata": {},
   "outputs": [
    {
     "data": {
      "application/vnd.jupyter.widget-view+json": {
       "model_id": "d86976dee06444cfabd6df72e3e6e043",
       "version_major": 2,
       "version_minor": 0
      },
      "text/plain": [
       "  0%|          | 0/253 [00:00<?, ?it/s]"
      ]
     },
     "metadata": {},
     "output_type": "display_data"
    }
   ],
   "source": [
    "#class:{attr:}\n",
    "correct_pred = {0:{0:0,1:0},1:{0:0,1:0}}\n",
    "total_pred = {0:{0:0,1:0},1:{0:0,1:0}}\n",
    "\n",
    "with torch.no_grad():\n",
    "    for data in tqdm(test_dataloader, total=len(test_dataloader.dataset)//batch_size):\n",
    "        inputs, labels, weights, attrs = data\n",
    "        inputs, labels, weights, attrs = inputs.to(device), labels.to(device), weights.to(device), attrs.to(device)\n",
    "        outputs = model(inputs)\n",
    "        predictions = torch.round(outputs)\n",
    "        for label, prediction, attr in zip(labels, predictions, attrs):\n",
    "            if label == prediction:\n",
    "                correct_pred[label.item()][attr.item()] += 1\n",
    "            total_pred[label.item()][attr.item()] += 1"
   ]
  },
  {
   "cell_type": "code",
   "execution_count": 16,
   "id": "95fad1e7",
   "metadata": {},
   "outputs": [
    {
     "name": "stdout",
     "output_type": "stream",
     "text": [
      "Accuracy for class: 0 , attr: 0: 91.50442477876106 total: 1130  \n",
      "Accuracy for class: 0 , attr: 1: 91.16234390009606 total: 1041  \n",
      "Accuracy for class: 1 , attr: 0: 90.64039408866995 total: 1218  \n",
      "Accuracy for class: 1 , attr: 1: 87.63197586726999 total: 663  \n"
     ]
    }
   ],
   "source": [
    "for classname, correct_counts in correct_pred.items():\n",
    "    for attr_name, correct_count in correct_counts.items():\n",
    "        accuracy = 100 * float(correct_count) / total_pred[classname][attr_name]\n",
    "        print(f'Accuracy for class: {classname} , attr: {attr_name}: {accuracy} total: {total_pred[classname][attr_name]}  ')"
   ]
  },
  {
   "cell_type": "markdown",
   "id": "fd7ce369",
   "metadata": {},
   "source": [
    "## Without weights\n",
    "\n",
    "Accuracy for class: 0 , attr: 0: 66.46017699115045 total: 1130  \n",
    "Accuracy for class: 0 , attr: 1: 96.06147934678194 total: 1041  \n",
    "Accuracy for class: 1 , attr: 0: 98.0295566502463 total: 1218  \n",
    "Accuracy for class: 1 , attr: 1: 75.41478129713424 total: 663  "
   ]
  },
  {
   "cell_type": "markdown",
   "id": "1e974a98",
   "metadata": {},
   "source": [
    "## With Weights\n",
    "Accuracy for class: 0 , attr: 0: 72.7433628318584 total: 1130  \n",
    "Accuracy for class: 0 , attr: 1: 96.54178674351586 total: 1041  \n",
    "Accuracy for class: 1 , attr: 0: 97.53694581280789 total: 1218  \n",
    "Accuracy for class: 1 , attr: 1: 68.92911010558069 total: 663  "
   ]
  },
  {
   "cell_type": "code",
   "execution_count": null,
   "id": "a23895e2",
   "metadata": {},
   "outputs": [],
   "source": []
  }
 ],
 "metadata": {
  "kernelspec": {
   "display_name": "Python 3 (ipykernel)",
   "language": "python",
   "name": "python3"
  },
  "language_info": {
   "codemirror_mode": {
    "name": "ipython",
    "version": 3
   },
   "file_extension": ".py",
   "mimetype": "text/x-python",
   "name": "python",
   "nbconvert_exporter": "python",
   "pygments_lexer": "ipython3",
   "version": "3.10.10"
  }
 },
 "nbformat": 4,
 "nbformat_minor": 5
}
